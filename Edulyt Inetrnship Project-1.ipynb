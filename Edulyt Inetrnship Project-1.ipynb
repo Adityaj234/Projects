{
 "cells": [
  {
   "cell_type": "markdown",
   "id": "e20a36fc",
   "metadata": {},
   "source": [
    "# LOADING DATASET AND LIBRARIES"
   ]
  },
  {
   "cell_type": "code",
   "execution_count": 140,
   "id": "72e9dc4a",
   "metadata": {},
   "outputs": [],
   "source": [
    "import pandas as pd\n",
    "import numpy as np\n",
    "import matplotlib.pyplot as plt\n",
    "import seaborn as sns\n",
    "%matplotlib inline"
   ]
  },
  {
   "cell_type": "code",
   "execution_count": 141,
   "id": "cd6fcccd",
   "metadata": {},
   "outputs": [],
   "source": [
    "ca=pd.read_excel('Credit Banking_Project1.xls',sheet_name='Customer Acqusition')\n",
    "sp=pd.read_excel('Credit Banking_Project1.xls',sheet_name='Spend')\n",
    "rp=pd.read_excel('Credit Banking_Project1.xls',sheet_name='Repayment')"
   ]
  },
  {
   "cell_type": "code",
   "execution_count": 142,
   "id": "8443b24a",
   "metadata": {},
   "outputs": [
    {
     "data": {
      "text/html": [
       "<div>\n",
       "<style scoped>\n",
       "    .dataframe tbody tr th:only-of-type {\n",
       "        vertical-align: middle;\n",
       "    }\n",
       "\n",
       "    .dataframe tbody tr th {\n",
       "        vertical-align: top;\n",
       "    }\n",
       "\n",
       "    .dataframe thead th {\n",
       "        text-align: right;\n",
       "    }\n",
       "</style>\n",
       "<table border=\"1\" class=\"dataframe\">\n",
       "  <thead>\n",
       "    <tr style=\"text-align: right;\">\n",
       "      <th></th>\n",
       "      <th>Sl No:</th>\n",
       "      <th>Customer</th>\n",
       "      <th>Age</th>\n",
       "      <th>City</th>\n",
       "      <th>Credit Card Product</th>\n",
       "      <th>Limit</th>\n",
       "      <th>Company</th>\n",
       "      <th>Segment</th>\n",
       "    </tr>\n",
       "  </thead>\n",
       "  <tbody>\n",
       "    <tr>\n",
       "      <th>0</th>\n",
       "      <td>1</td>\n",
       "      <td>A1</td>\n",
       "      <td>0.929</td>\n",
       "      <td>BANGALORE</td>\n",
       "      <td>Gold</td>\n",
       "      <td>500000</td>\n",
       "      <td>C1</td>\n",
       "      <td>Self Employed</td>\n",
       "    </tr>\n",
       "    <tr>\n",
       "      <th>1</th>\n",
       "      <td>2</td>\n",
       "      <td>A2</td>\n",
       "      <td>35.535</td>\n",
       "      <td>CALCUTTA</td>\n",
       "      <td>Silver</td>\n",
       "      <td>100000</td>\n",
       "      <td>C2</td>\n",
       "      <td>Salaried_MNC</td>\n",
       "    </tr>\n",
       "    <tr>\n",
       "      <th>2</th>\n",
       "      <td>3</td>\n",
       "      <td>A3</td>\n",
       "      <td>11.559</td>\n",
       "      <td>COCHIN</td>\n",
       "      <td>Platimum</td>\n",
       "      <td>10000</td>\n",
       "      <td>C3</td>\n",
       "      <td>Salaried_Pvt</td>\n",
       "    </tr>\n",
       "    <tr>\n",
       "      <th>3</th>\n",
       "      <td>4</td>\n",
       "      <td>A4</td>\n",
       "      <td>45.820</td>\n",
       "      <td>BOMBAY</td>\n",
       "      <td>Platimum</td>\n",
       "      <td>10001</td>\n",
       "      <td>C4</td>\n",
       "      <td>Govt</td>\n",
       "    </tr>\n",
       "    <tr>\n",
       "      <th>4</th>\n",
       "      <td>5</td>\n",
       "      <td>A5</td>\n",
       "      <td>69.664</td>\n",
       "      <td>BANGALORE</td>\n",
       "      <td>Platimum</td>\n",
       "      <td>10002</td>\n",
       "      <td>C5</td>\n",
       "      <td>Normal Salary</td>\n",
       "    </tr>\n",
       "  </tbody>\n",
       "</table>\n",
       "</div>"
      ],
      "text/plain": [
       "   Sl No: Customer    Age       City Credit Card Product   Limit Company  \\\n",
       "0       1       A1  0.929  BANGALORE                Gold  500000      C1   \n",
       "1       2       A2 35.535   CALCUTTA              Silver  100000      C2   \n",
       "2       3       A3 11.559     COCHIN            Platimum   10000      C3   \n",
       "3       4       A4 45.820     BOMBAY            Platimum   10001      C4   \n",
       "4       5       A5 69.664  BANGALORE            Platimum   10002      C5   \n",
       "\n",
       "         Segment  \n",
       "0  Self Employed  \n",
       "1   Salaried_MNC  \n",
       "2   Salaried_Pvt  \n",
       "3           Govt  \n",
       "4  Normal Salary  "
      ]
     },
     "execution_count": 142,
     "metadata": {},
     "output_type": "execute_result"
    }
   ],
   "source": [
    "ca.head()"
   ]
  },
  {
   "cell_type": "code",
   "execution_count": 143,
   "id": "3c0f853d",
   "metadata": {},
   "outputs": [
    {
     "data": {
      "text/html": [
       "<div>\n",
       "<style scoped>\n",
       "    .dataframe tbody tr th:only-of-type {\n",
       "        vertical-align: middle;\n",
       "    }\n",
       "\n",
       "    .dataframe tbody tr th {\n",
       "        vertical-align: top;\n",
       "    }\n",
       "\n",
       "    .dataframe thead th {\n",
       "        text-align: right;\n",
       "    }\n",
       "</style>\n",
       "<table border=\"1\" class=\"dataframe\">\n",
       "  <thead>\n",
       "    <tr style=\"text-align: right;\">\n",
       "      <th></th>\n",
       "      <th>Sl No:</th>\n",
       "      <th>Age</th>\n",
       "      <th>Limit</th>\n",
       "    </tr>\n",
       "  </thead>\n",
       "  <tbody>\n",
       "    <tr>\n",
       "      <th>count</th>\n",
       "      <td>100.000</td>\n",
       "      <td>100.000</td>\n",
       "      <td>100.000</td>\n",
       "    </tr>\n",
       "    <tr>\n",
       "      <th>mean</th>\n",
       "      <td>50.500</td>\n",
       "      <td>40.147</td>\n",
       "      <td>284700.610</td>\n",
       "    </tr>\n",
       "    <tr>\n",
       "      <th>std</th>\n",
       "      <td>29.011</td>\n",
       "      <td>23.630</td>\n",
       "      <td>218494.968</td>\n",
       "    </tr>\n",
       "    <tr>\n",
       "      <th>min</th>\n",
       "      <td>1.000</td>\n",
       "      <td>0.726</td>\n",
       "      <td>10000.000</td>\n",
       "    </tr>\n",
       "    <tr>\n",
       "      <th>25%</th>\n",
       "      <td>25.750</td>\n",
       "      <td>20.254</td>\n",
       "      <td>100000.000</td>\n",
       "    </tr>\n",
       "    <tr>\n",
       "      <th>50%</th>\n",
       "      <td>50.500</td>\n",
       "      <td>40.546</td>\n",
       "      <td>300001.500</td>\n",
       "    </tr>\n",
       "    <tr>\n",
       "      <th>75%</th>\n",
       "      <td>75.250</td>\n",
       "      <td>61.607</td>\n",
       "      <td>500000.000</td>\n",
       "    </tr>\n",
       "    <tr>\n",
       "      <th>max</th>\n",
       "      <td>100.000</td>\n",
       "      <td>78.432</td>\n",
       "      <td>500000.000</td>\n",
       "    </tr>\n",
       "  </tbody>\n",
       "</table>\n",
       "</div>"
      ],
      "text/plain": [
       "       Sl No:     Age      Limit\n",
       "count 100.000 100.000    100.000\n",
       "mean   50.500  40.147 284700.610\n",
       "std    29.011  23.630 218494.968\n",
       "min     1.000   0.726  10000.000\n",
       "25%    25.750  20.254 100000.000\n",
       "50%    50.500  40.546 300001.500\n",
       "75%    75.250  61.607 500000.000\n",
       "max   100.000  78.432 500000.000"
      ]
     },
     "execution_count": 143,
     "metadata": {},
     "output_type": "execute_result"
    }
   ],
   "source": [
    "ca.describe()"
   ]
  },
  {
   "cell_type": "code",
   "execution_count": 144,
   "id": "decfe176",
   "metadata": {},
   "outputs": [
    {
     "name": "stdout",
     "output_type": "stream",
     "text": [
      "<class 'pandas.core.frame.DataFrame'>\n",
      "RangeIndex: 100 entries, 0 to 99\n",
      "Data columns (total 8 columns):\n",
      " #   Column               Non-Null Count  Dtype  \n",
      "---  ------               --------------  -----  \n",
      " 0   Sl No:               100 non-null    int64  \n",
      " 1   Customer             100 non-null    object \n",
      " 2   Age                  100 non-null    float64\n",
      " 3   City                 100 non-null    object \n",
      " 4   Credit Card Product  100 non-null    object \n",
      " 5   Limit                100 non-null    int64  \n",
      " 6   Company              100 non-null    object \n",
      " 7   Segment              100 non-null    object \n",
      "dtypes: float64(1), int64(2), object(5)\n",
      "memory usage: 6.4+ KB\n"
     ]
    }
   ],
   "source": [
    "ca.info()"
   ]
  },
  {
   "cell_type": "markdown",
   "id": "beadf399",
   "metadata": {},
   "source": [
    "# MONTHLY SPEND"
   ]
  },
  {
   "cell_type": "code",
   "execution_count": 145,
   "id": "e72ca1e5",
   "metadata": {},
   "outputs": [],
   "source": [
    "sp['Month']=pd.to_datetime(sp['Month'])\n",
    "sp['Name of month']=sp['Month'].apply(lambda month : month.month)\n",
    "sp['Year']=sp['Month'].apply(lambda month : month.year)"
   ]
  },
  {
   "cell_type": "code",
   "execution_count": 146,
   "id": "7f13d118",
   "metadata": {},
   "outputs": [
    {
     "data": {
      "text/html": [
       "<div>\n",
       "<style scoped>\n",
       "    .dataframe tbody tr th:only-of-type {\n",
       "        vertical-align: middle;\n",
       "    }\n",
       "\n",
       "    .dataframe tbody tr th {\n",
       "        vertical-align: top;\n",
       "    }\n",
       "\n",
       "    .dataframe thead th {\n",
       "        text-align: right;\n",
       "    }\n",
       "</style>\n",
       "<table border=\"1\" class=\"dataframe\">\n",
       "  <thead>\n",
       "    <tr style=\"text-align: right;\">\n",
       "      <th></th>\n",
       "      <th>Sl No:</th>\n",
       "      <th>Costomer</th>\n",
       "      <th>Month</th>\n",
       "      <th>Type</th>\n",
       "      <th>Amount</th>\n",
       "      <th>Name of month</th>\n",
       "      <th>Year</th>\n",
       "    </tr>\n",
       "  </thead>\n",
       "  <tbody>\n",
       "    <tr>\n",
       "      <th>0</th>\n",
       "      <td>1</td>\n",
       "      <td>A1</td>\n",
       "      <td>2004-01-12</td>\n",
       "      <td>JEWELLERY</td>\n",
       "      <td>473775.835</td>\n",
       "      <td>Jan</td>\n",
       "      <td>2004</td>\n",
       "    </tr>\n",
       "    <tr>\n",
       "      <th>1</th>\n",
       "      <td>2</td>\n",
       "      <td>A1</td>\n",
       "      <td>2004-01-03</td>\n",
       "      <td>PETRO</td>\n",
       "      <td>335578.666</td>\n",
       "      <td>Jan</td>\n",
       "      <td>2004</td>\n",
       "    </tr>\n",
       "    <tr>\n",
       "      <th>2</th>\n",
       "      <td>3</td>\n",
       "      <td>A1</td>\n",
       "      <td>2004-01-15</td>\n",
       "      <td>CLOTHES</td>\n",
       "      <td>371040.942</td>\n",
       "      <td>Jan</td>\n",
       "      <td>2004</td>\n",
       "    </tr>\n",
       "    <tr>\n",
       "      <th>3</th>\n",
       "      <td>4</td>\n",
       "      <td>A1</td>\n",
       "      <td>2004-01-25</td>\n",
       "      <td>FOOD</td>\n",
       "      <td>141177.813</td>\n",
       "      <td>Jan</td>\n",
       "      <td>2004</td>\n",
       "    </tr>\n",
       "    <tr>\n",
       "      <th>4</th>\n",
       "      <td>5</td>\n",
       "      <td>A1</td>\n",
       "      <td>2005-01-17</td>\n",
       "      <td>CAMERA</td>\n",
       "      <td>398403.772</td>\n",
       "      <td>Jan</td>\n",
       "      <td>2005</td>\n",
       "    </tr>\n",
       "  </tbody>\n",
       "</table>\n",
       "</div>"
      ],
      "text/plain": [
       "   Sl No: Costomer      Month       Type     Amount Name of month  Year\n",
       "0       1       A1 2004-01-12  JEWELLERY 473775.835           Jan  2004\n",
       "1       2       A1 2004-01-03      PETRO 335578.666           Jan  2004\n",
       "2       3       A1 2004-01-15    CLOTHES 371040.942           Jan  2004\n",
       "3       4       A1 2004-01-25       FOOD 141177.813           Jan  2004\n",
       "4       5       A1 2005-01-17     CAMERA 398403.772           Jan  2005"
      ]
     },
     "execution_count": 146,
     "metadata": {},
     "output_type": "execute_result"
    }
   ],
   "source": [
    "nm={1:'Jan',2:'Feb',3:'Mar',4:'Apr',5:'May',6:'Jun',7:'Jul',8:'Aug',9:'Sep',10:'Oct',11:'Nov',12:'Dec'}\n",
    "sp['Name of month']=sp['Name of month'].map(nm)\n",
    "sp.head()"
   ]
  },
  {
   "cell_type": "code",
   "execution_count": 147,
   "id": "0d420065",
   "metadata": {},
   "outputs": [
    {
     "data": {
      "text/html": [
       "<div>\n",
       "<style scoped>\n",
       "    .dataframe tbody tr th:only-of-type {\n",
       "        vertical-align: middle;\n",
       "    }\n",
       "\n",
       "    .dataframe tbody tr th {\n",
       "        vertical-align: top;\n",
       "    }\n",
       "\n",
       "    .dataframe thead th {\n",
       "        text-align: right;\n",
       "    }\n",
       "</style>\n",
       "<table border=\"1\" class=\"dataframe\">\n",
       "  <thead>\n",
       "    <tr style=\"text-align: right;\">\n",
       "      <th></th>\n",
       "      <th>Costomer</th>\n",
       "      <th>Amount</th>\n",
       "      <th>Name of month</th>\n",
       "      <th>Year</th>\n",
       "    </tr>\n",
       "  </thead>\n",
       "  <tbody>\n",
       "    <tr>\n",
       "      <th>0</th>\n",
       "      <td>A1</td>\n",
       "      <td>473775.835</td>\n",
       "      <td>Jan</td>\n",
       "      <td>2004</td>\n",
       "    </tr>\n",
       "    <tr>\n",
       "      <th>1</th>\n",
       "      <td>A1</td>\n",
       "      <td>335578.666</td>\n",
       "      <td>Jan</td>\n",
       "      <td>2004</td>\n",
       "    </tr>\n",
       "    <tr>\n",
       "      <th>2</th>\n",
       "      <td>A1</td>\n",
       "      <td>371040.942</td>\n",
       "      <td>Jan</td>\n",
       "      <td>2004</td>\n",
       "    </tr>\n",
       "    <tr>\n",
       "      <th>3</th>\n",
       "      <td>A1</td>\n",
       "      <td>141177.813</td>\n",
       "      <td>Jan</td>\n",
       "      <td>2004</td>\n",
       "    </tr>\n",
       "    <tr>\n",
       "      <th>4</th>\n",
       "      <td>A1</td>\n",
       "      <td>398403.772</td>\n",
       "      <td>Jan</td>\n",
       "      <td>2005</td>\n",
       "    </tr>\n",
       "    <tr>\n",
       "      <th>...</th>\n",
       "      <td>...</td>\n",
       "      <td>...</td>\n",
       "      <td>...</td>\n",
       "      <td>...</td>\n",
       "    </tr>\n",
       "    <tr>\n",
       "      <th>1495</th>\n",
       "      <td>A67</td>\n",
       "      <td>195841.312</td>\n",
       "      <td>Feb</td>\n",
       "      <td>2006</td>\n",
       "    </tr>\n",
       "    <tr>\n",
       "      <th>1496</th>\n",
       "      <td>A68</td>\n",
       "      <td>284262.518</td>\n",
       "      <td>Mar</td>\n",
       "      <td>2006</td>\n",
       "    </tr>\n",
       "    <tr>\n",
       "      <th>1497</th>\n",
       "      <td>A69</td>\n",
       "      <td>206552.274</td>\n",
       "      <td>Mar</td>\n",
       "      <td>2006</td>\n",
       "    </tr>\n",
       "    <tr>\n",
       "      <th>1498</th>\n",
       "      <td>A70</td>\n",
       "      <td>41024.781</td>\n",
       "      <td>Mar</td>\n",
       "      <td>2006</td>\n",
       "    </tr>\n",
       "    <tr>\n",
       "      <th>1499</th>\n",
       "      <td>A71</td>\n",
       "      <td>101397.549</td>\n",
       "      <td>Mar</td>\n",
       "      <td>2006</td>\n",
       "    </tr>\n",
       "  </tbody>\n",
       "</table>\n",
       "<p>1500 rows × 4 columns</p>\n",
       "</div>"
      ],
      "text/plain": [
       "     Costomer     Amount Name of month  Year\n",
       "0          A1 473775.835           Jan  2004\n",
       "1          A1 335578.666           Jan  2004\n",
       "2          A1 371040.942           Jan  2004\n",
       "3          A1 141177.813           Jan  2004\n",
       "4          A1 398403.772           Jan  2005\n",
       "...       ...        ...           ...   ...\n",
       "1495      A67 195841.312           Feb  2006\n",
       "1496      A68 284262.518           Mar  2006\n",
       "1497      A69 206552.274           Mar  2006\n",
       "1498      A70  41024.781           Mar  2006\n",
       "1499      A71 101397.549           Mar  2006\n",
       "\n",
       "[1500 rows x 4 columns]"
      ]
     },
     "execution_count": 147,
     "metadata": {},
     "output_type": "execute_result"
    }
   ],
   "source": [
    "df1=sp[['Costomer','Amount','Name of month','Year']]\n",
    "df1"
   ]
  },
  {
   "cell_type": "code",
   "execution_count": 195,
   "id": "c0621ba0",
   "metadata": {},
   "outputs": [
    {
     "data": {
      "text/plain": [
       "<seaborn.axisgrid.PairGrid at 0x14cef19be80>"
      ]
     },
     "execution_count": 195,
     "metadata": {},
     "output_type": "execute_result"
    },
    {
     "data": {
      "image/png": "[encoded data removed]",
      "text/plain": [
       "<Figure size 360x360 with 6 Axes>"
      ]
     },
     "metadata": {
      "needs_background": "light"
     },
     "output_type": "display_data"
    }
   ],
   "source": [
    "sns.pairplot(data=df1,palette='Blues_d')"
   ]
  },
  {
   "cell_type": "code",
   "execution_count": 148,
   "id": "b2e8513d",
   "metadata": {},
   "outputs": [],
   "source": [
    "pd.set_option('display.float_format', lambda x: f'{x:.3f}')"
   ]
  },
  {
   "cell_type": "code",
   "execution_count": 149,
   "id": "9ff22e1b",
   "metadata": {},
   "outputs": [
    {
     "data": {
      "text/html": [
       "<div>\n",
       "<style scoped>\n",
       "    .dataframe tbody tr th:only-of-type {\n",
       "        vertical-align: middle;\n",
       "    }\n",
       "\n",
       "    .dataframe tbody tr th {\n",
       "        vertical-align: top;\n",
       "    }\n",
       "\n",
       "    .dataframe thead th {\n",
       "        text-align: right;\n",
       "    }\n",
       "</style>\n",
       "<table border=\"1\" class=\"dataframe\">\n",
       "  <thead>\n",
       "    <tr style=\"text-align: right;\">\n",
       "      <th></th>\n",
       "      <th>Costomer</th>\n",
       "      <th>Year</th>\n",
       "      <th>Name of month</th>\n",
       "      <th>Amount</th>\n",
       "    </tr>\n",
       "  </thead>\n",
       "  <tbody>\n",
       "    <tr>\n",
       "      <th>0</th>\n",
       "      <td>A1</td>\n",
       "      <td>2004</td>\n",
       "      <td>Feb</td>\n",
       "      <td>41381.106</td>\n",
       "    </tr>\n",
       "    <tr>\n",
       "      <th>1</th>\n",
       "      <td>A1</td>\n",
       "      <td>2004</td>\n",
       "      <td>Jan</td>\n",
       "      <td>1511172.746</td>\n",
       "    </tr>\n",
       "    <tr>\n",
       "      <th>2</th>\n",
       "      <td>A1</td>\n",
       "      <td>2004</td>\n",
       "      <td>May</td>\n",
       "      <td>131196.588</td>\n",
       "    </tr>\n",
       "    <tr>\n",
       "      <th>3</th>\n",
       "      <td>A1</td>\n",
       "      <td>2005</td>\n",
       "      <td>Aug</td>\n",
       "      <td>129388.313</td>\n",
       "    </tr>\n",
       "    <tr>\n",
       "      <th>4</th>\n",
       "      <td>A1</td>\n",
       "      <td>2005</td>\n",
       "      <td>Feb</td>\n",
       "      <td>1404193.042</td>\n",
       "    </tr>\n",
       "    <tr>\n",
       "      <th>...</th>\n",
       "      <td>...</td>\n",
       "      <td>...</td>\n",
       "      <td>...</td>\n",
       "      <td>...</td>\n",
       "    </tr>\n",
       "    <tr>\n",
       "      <th>802</th>\n",
       "      <td>A95</td>\n",
       "      <td>2004</td>\n",
       "      <td>Jan</td>\n",
       "      <td>347833.880</td>\n",
       "    </tr>\n",
       "    <tr>\n",
       "      <th>803</th>\n",
       "      <td>A96</td>\n",
       "      <td>2004</td>\n",
       "      <td>Jan</td>\n",
       "      <td>320363.536</td>\n",
       "    </tr>\n",
       "    <tr>\n",
       "      <th>804</th>\n",
       "      <td>A97</td>\n",
       "      <td>2004</td>\n",
       "      <td>Jan</td>\n",
       "      <td>164330.042</td>\n",
       "    </tr>\n",
       "    <tr>\n",
       "      <th>805</th>\n",
       "      <td>A98</td>\n",
       "      <td>2004</td>\n",
       "      <td>Jan</td>\n",
       "      <td>87483.512</td>\n",
       "    </tr>\n",
       "    <tr>\n",
       "      <th>806</th>\n",
       "      <td>A99</td>\n",
       "      <td>2004</td>\n",
       "      <td>Jan</td>\n",
       "      <td>476020.387</td>\n",
       "    </tr>\n",
       "  </tbody>\n",
       "</table>\n",
       "<p>807 rows × 4 columns</p>\n",
       "</div>"
      ],
      "text/plain": [
       "    Costomer  Year Name of month      Amount\n",
       "0         A1  2004           Feb   41381.106\n",
       "1         A1  2004           Jan 1511172.746\n",
       "2         A1  2004           May  131196.588\n",
       "3         A1  2005           Aug  129388.313\n",
       "4         A1  2005           Feb 1404193.042\n",
       "..       ...   ...           ...         ...\n",
       "802      A95  2004           Jan  347833.880\n",
       "803      A96  2004           Jan  320363.536\n",
       "804      A97  2004           Jan  164330.042\n",
       "805      A98  2004           Jan   87483.512\n",
       "806      A99  2004           Jan  476020.387\n",
       "\n",
       "[807 rows x 4 columns]"
      ]
     },
     "execution_count": 149,
     "metadata": {},
     "output_type": "execute_result"
    }
   ],
   "source": [
    "Q1=df1.groupby(['Costomer','Year','Name of month']).sum().reset_index()\n",
    "Q1['Costomer'].str.strip()\n",
    "Q1"
   ]
  },
  {
   "cell_type": "code",
   "execution_count": 150,
   "id": "262b79a3",
   "metadata": {},
   "outputs": [
    {
     "data": {
      "text/html": [
       "<div>\n",
       "<style scoped>\n",
       "    .dataframe tbody tr th:only-of-type {\n",
       "        vertical-align: middle;\n",
       "    }\n",
       "\n",
       "    .dataframe tbody tr th {\n",
       "        vertical-align: top;\n",
       "    }\n",
       "\n",
       "    .dataframe thead th {\n",
       "        text-align: right;\n",
       "    }\n",
       "</style>\n",
       "<table border=\"1\" class=\"dataframe\">\n",
       "  <thead>\n",
       "    <tr style=\"text-align: right;\">\n",
       "      <th></th>\n",
       "      <th>Costomer</th>\n",
       "      <th>Year</th>\n",
       "      <th>Name of month</th>\n",
       "      <th>Amount</th>\n",
       "    </tr>\n",
       "  </thead>\n",
       "  <tbody>\n",
       "    <tr>\n",
       "      <th>0</th>\n",
       "      <td>A1</td>\n",
       "      <td>2004</td>\n",
       "      <td>Feb</td>\n",
       "      <td>41381.106</td>\n",
       "    </tr>\n",
       "    <tr>\n",
       "      <th>1</th>\n",
       "      <td>A1</td>\n",
       "      <td>2004</td>\n",
       "      <td>Jan</td>\n",
       "      <td>1511172.746</td>\n",
       "    </tr>\n",
       "    <tr>\n",
       "      <th>2</th>\n",
       "      <td>A1</td>\n",
       "      <td>2004</td>\n",
       "      <td>May</td>\n",
       "      <td>131196.588</td>\n",
       "    </tr>\n",
       "    <tr>\n",
       "      <th>3</th>\n",
       "      <td>A1</td>\n",
       "      <td>2005</td>\n",
       "      <td>Aug</td>\n",
       "      <td>129388.313</td>\n",
       "    </tr>\n",
       "    <tr>\n",
       "      <th>4</th>\n",
       "      <td>A1</td>\n",
       "      <td>2005</td>\n",
       "      <td>Feb</td>\n",
       "      <td>1404193.042</td>\n",
       "    </tr>\n",
       "  </tbody>\n",
       "</table>\n",
       "</div>"
      ],
      "text/plain": [
       "  Costomer  Year Name of month      Amount\n",
       "0       A1  2004           Feb   41381.106\n",
       "1       A1  2004           Jan 1511172.746\n",
       "2       A1  2004           May  131196.588\n",
       "3       A1  2005           Aug  129388.313\n",
       "4       A1  2005           Feb 1404193.042"
      ]
     },
     "execution_count": 150,
     "metadata": {},
     "output_type": "execute_result"
    }
   ],
   "source": [
    "g1 = Q1.loc[Q1['Costomer'].isin(['A1','A2','A3','A4','A5','A6','A7','A8','A9','A10'])]\n",
    "g1.head()"
   ]
  },
  {
   "cell_type": "code",
   "execution_count": 151,
   "id": "7a1545e2",
   "metadata": {},
   "outputs": [
    {
     "data": {
      "text/plain": [
       "<seaborn.axisgrid.FacetGrid at 0x14cdf647580>"
      ]
     },
     "execution_count": 151,
     "metadata": {},
     "output_type": "execute_result"
    },
    {
     "data": {
      "image/png": "[encoded data removed]",
      "text/plain": [
       "<Figure size 4375.88x1080 with 36 Axes>"
      ]
     },
     "metadata": {
      "needs_background": "light"
     },
     "output_type": "display_data"
    }
   ],
   "source": [
    "sns.displot(data=g1,\n",
    "    x='Costomer',\n",
    "    y='Amount',\n",
    "    hue='Costomer',\n",
    "    row='Year',\n",
    "    col='Name of month',kind='hist',palette=\"bright\")"
   ]
  },
  {
   "cell_type": "markdown",
   "id": "82a6f3f0",
   "metadata": {},
   "source": [
    "# MONTHLY REPAYMENT"
   ]
  },
  {
   "cell_type": "code",
   "execution_count": 152,
   "id": "db57a5bb",
   "metadata": {},
   "outputs": [
    {
     "data": {
      "text/html": [
       "<div>\n",
       "<style scoped>\n",
       "    .dataframe tbody tr th:only-of-type {\n",
       "        vertical-align: middle;\n",
       "    }\n",
       "\n",
       "    .dataframe tbody tr th {\n",
       "        vertical-align: top;\n",
       "    }\n",
       "\n",
       "    .dataframe thead th {\n",
       "        text-align: right;\n",
       "    }\n",
       "</style>\n",
       "<table border=\"1\" class=\"dataframe\">\n",
       "  <thead>\n",
       "    <tr style=\"text-align: right;\">\n",
       "      <th></th>\n",
       "      <th>SL No:</th>\n",
       "      <th>Costomer</th>\n",
       "      <th>Month</th>\n",
       "      <th>Amount</th>\n",
       "    </tr>\n",
       "  </thead>\n",
       "  <tbody>\n",
       "    <tr>\n",
       "      <th>0</th>\n",
       "      <td>1</td>\n",
       "      <td>A1</td>\n",
       "      <td>2004-01-12</td>\n",
       "      <td>331844.007</td>\n",
       "    </tr>\n",
       "    <tr>\n",
       "      <th>1</th>\n",
       "      <td>2</td>\n",
       "      <td>A1</td>\n",
       "      <td>2004-01-03</td>\n",
       "      <td>441139.807</td>\n",
       "    </tr>\n",
       "    <tr>\n",
       "      <th>2</th>\n",
       "      <td>3</td>\n",
       "      <td>A1</td>\n",
       "      <td>2004-01-15</td>\n",
       "      <td>32480.004</td>\n",
       "    </tr>\n",
       "    <tr>\n",
       "      <th>3</th>\n",
       "      <td>4</td>\n",
       "      <td>A1</td>\n",
       "      <td>2004-01-25</td>\n",
       "      <td>90636.967</td>\n",
       "    </tr>\n",
       "    <tr>\n",
       "      <th>4</th>\n",
       "      <td>5</td>\n",
       "      <td>A1</td>\n",
       "      <td>2005-01-17</td>\n",
       "      <td>1581.970</td>\n",
       "    </tr>\n",
       "  </tbody>\n",
       "</table>\n",
       "</div>"
      ],
      "text/plain": [
       "   SL No: Costomer      Month     Amount\n",
       "0       1       A1 2004-01-12 331844.007\n",
       "1       2       A1 2004-01-03 441139.807\n",
       "2       3       A1 2004-01-15  32480.004\n",
       "3       4       A1 2004-01-25  90636.967\n",
       "4       5       A1 2005-01-17   1581.970"
      ]
     },
     "execution_count": 152,
     "metadata": {},
     "output_type": "execute_result"
    }
   ],
   "source": [
    "rp.head()"
   ]
  },
  {
   "cell_type": "code",
   "execution_count": 153,
   "id": "f3bb4484",
   "metadata": {},
   "outputs": [],
   "source": [
    "rp['Month']=pd.to_datetime(rp['Month'])\n",
    "rp['Name of month']=rp['Month'].apply(lambda month : month.month)\n",
    "rp['Year']=rp['Month'].apply(lambda month : month.year)"
   ]
  },
  {
   "cell_type": "code",
   "execution_count": 154,
   "id": "df8b5102",
   "metadata": {},
   "outputs": [
    {
     "data": {
      "text/html": [
       "<div>\n",
       "<style scoped>\n",
       "    .dataframe tbody tr th:only-of-type {\n",
       "        vertical-align: middle;\n",
       "    }\n",
       "\n",
       "    .dataframe tbody tr th {\n",
       "        vertical-align: top;\n",
       "    }\n",
       "\n",
       "    .dataframe thead th {\n",
       "        text-align: right;\n",
       "    }\n",
       "</style>\n",
       "<table border=\"1\" class=\"dataframe\">\n",
       "  <thead>\n",
       "    <tr style=\"text-align: right;\">\n",
       "      <th></th>\n",
       "      <th>SL No:</th>\n",
       "      <th>Costomer</th>\n",
       "      <th>Month</th>\n",
       "      <th>Amount</th>\n",
       "      <th>Name of month</th>\n",
       "      <th>Year</th>\n",
       "    </tr>\n",
       "  </thead>\n",
       "  <tbody>\n",
       "    <tr>\n",
       "      <th>0</th>\n",
       "      <td>1</td>\n",
       "      <td>A1</td>\n",
       "      <td>2004-01-12</td>\n",
       "      <td>331844.007</td>\n",
       "      <td>Jan</td>\n",
       "      <td>2004</td>\n",
       "    </tr>\n",
       "    <tr>\n",
       "      <th>1</th>\n",
       "      <td>2</td>\n",
       "      <td>A1</td>\n",
       "      <td>2004-01-03</td>\n",
       "      <td>441139.807</td>\n",
       "      <td>Jan</td>\n",
       "      <td>2004</td>\n",
       "    </tr>\n",
       "    <tr>\n",
       "      <th>2</th>\n",
       "      <td>3</td>\n",
       "      <td>A1</td>\n",
       "      <td>2004-01-15</td>\n",
       "      <td>32480.004</td>\n",
       "      <td>Jan</td>\n",
       "      <td>2004</td>\n",
       "    </tr>\n",
       "    <tr>\n",
       "      <th>3</th>\n",
       "      <td>4</td>\n",
       "      <td>A1</td>\n",
       "      <td>2004-01-25</td>\n",
       "      <td>90636.967</td>\n",
       "      <td>Jan</td>\n",
       "      <td>2004</td>\n",
       "    </tr>\n",
       "    <tr>\n",
       "      <th>4</th>\n",
       "      <td>5</td>\n",
       "      <td>A1</td>\n",
       "      <td>2005-01-17</td>\n",
       "      <td>1581.970</td>\n",
       "      <td>Jan</td>\n",
       "      <td>2005</td>\n",
       "    </tr>\n",
       "  </tbody>\n",
       "</table>\n",
       "</div>"
      ],
      "text/plain": [
       "   SL No: Costomer      Month     Amount Name of month  Year\n",
       "0       1       A1 2004-01-12 331844.007           Jan  2004\n",
       "1       2       A1 2004-01-03 441139.807           Jan  2004\n",
       "2       3       A1 2004-01-15  32480.004           Jan  2004\n",
       "3       4       A1 2004-01-25  90636.967           Jan  2004\n",
       "4       5       A1 2005-01-17   1581.970           Jan  2005"
      ]
     },
     "execution_count": 154,
     "metadata": {},
     "output_type": "execute_result"
    }
   ],
   "source": [
    "nm={1:'Jan',2:'Feb',3:'Mar',4:'Apr',5:'May',6:'Jun',7:'Jul',8:'Aug',9:'Sep',10:'Oct',11:'Nov',12:'Dec'}\n",
    "rp['Name of month']=rp['Name of month'].map(nm)\n",
    "rp.head()"
   ]
  },
  {
   "cell_type": "code",
   "execution_count": 155,
   "id": "ab4c1f29",
   "metadata": {},
   "outputs": [
    {
     "data": {
      "text/html": [
       "<div>\n",
       "<style scoped>\n",
       "    .dataframe tbody tr th:only-of-type {\n",
       "        vertical-align: middle;\n",
       "    }\n",
       "\n",
       "    .dataframe tbody tr th {\n",
       "        vertical-align: top;\n",
       "    }\n",
       "\n",
       "    .dataframe thead th {\n",
       "        text-align: right;\n",
       "    }\n",
       "</style>\n",
       "<table border=\"1\" class=\"dataframe\">\n",
       "  <thead>\n",
       "    <tr style=\"text-align: right;\">\n",
       "      <th></th>\n",
       "      <th>Costomer</th>\n",
       "      <th>Amount</th>\n",
       "      <th>Name of month</th>\n",
       "      <th>Year</th>\n",
       "    </tr>\n",
       "  </thead>\n",
       "  <tbody>\n",
       "    <tr>\n",
       "      <th>0</th>\n",
       "      <td>A1</td>\n",
       "      <td>331844.007</td>\n",
       "      <td>Jan</td>\n",
       "      <td>2004</td>\n",
       "    </tr>\n",
       "    <tr>\n",
       "      <th>1</th>\n",
       "      <td>A1</td>\n",
       "      <td>441139.807</td>\n",
       "      <td>Jan</td>\n",
       "      <td>2004</td>\n",
       "    </tr>\n",
       "    <tr>\n",
       "      <th>2</th>\n",
       "      <td>A1</td>\n",
       "      <td>32480.004</td>\n",
       "      <td>Jan</td>\n",
       "      <td>2004</td>\n",
       "    </tr>\n",
       "    <tr>\n",
       "      <th>3</th>\n",
       "      <td>A1</td>\n",
       "      <td>90636.967</td>\n",
       "      <td>Jan</td>\n",
       "      <td>2004</td>\n",
       "    </tr>\n",
       "    <tr>\n",
       "      <th>4</th>\n",
       "      <td>A1</td>\n",
       "      <td>1581.970</td>\n",
       "      <td>Jan</td>\n",
       "      <td>2005</td>\n",
       "    </tr>\n",
       "    <tr>\n",
       "      <th>...</th>\n",
       "      <td>...</td>\n",
       "      <td>...</td>\n",
       "      <td>...</td>\n",
       "      <td>...</td>\n",
       "    </tr>\n",
       "    <tr>\n",
       "      <th>1495</th>\n",
       "      <td>A67</td>\n",
       "      <td>200288.874</td>\n",
       "      <td>May</td>\n",
       "      <td>2005</td>\n",
       "    </tr>\n",
       "    <tr>\n",
       "      <th>1496</th>\n",
       "      <td>A68</td>\n",
       "      <td>231194.702</td>\n",
       "      <td>May</td>\n",
       "      <td>2006</td>\n",
       "    </tr>\n",
       "    <tr>\n",
       "      <th>1497</th>\n",
       "      <td>A69</td>\n",
       "      <td>391195.616</td>\n",
       "      <td>Jul</td>\n",
       "      <td>2006</td>\n",
       "    </tr>\n",
       "    <tr>\n",
       "      <th>1498</th>\n",
       "      <td>A70</td>\n",
       "      <td>357629.618</td>\n",
       "      <td>Aug</td>\n",
       "      <td>2005</td>\n",
       "    </tr>\n",
       "    <tr>\n",
       "      <th>1499</th>\n",
       "      <td>A71</td>\n",
       "      <td>179771.745</td>\n",
       "      <td>Sep</td>\n",
       "      <td>2004</td>\n",
       "    </tr>\n",
       "  </tbody>\n",
       "</table>\n",
       "<p>1500 rows × 4 columns</p>\n",
       "</div>"
      ],
      "text/plain": [
       "     Costomer     Amount Name of month  Year\n",
       "0          A1 331844.007           Jan  2004\n",
       "1          A1 441139.807           Jan  2004\n",
       "2          A1  32480.004           Jan  2004\n",
       "3          A1  90636.967           Jan  2004\n",
       "4          A1   1581.970           Jan  2005\n",
       "...       ...        ...           ...   ...\n",
       "1495      A67 200288.874           May  2005\n",
       "1496      A68 231194.702           May  2006\n",
       "1497      A69 391195.616           Jul  2006\n",
       "1498      A70 357629.618           Aug  2005\n",
       "1499      A71 179771.745           Sep  2004\n",
       "\n",
       "[1500 rows x 4 columns]"
      ]
     },
     "execution_count": 155,
     "metadata": {},
     "output_type": "execute_result"
    }
   ],
   "source": [
    "df2=rp[['Costomer','Amount','Name of month','Year']]\n",
    "df2"
   ]
  },
  {
   "cell_type": "code",
   "execution_count": 156,
   "id": "fe21090f",
   "metadata": {},
   "outputs": [
    {
     "data": {
      "text/html": [
       "<div>\n",
       "<style scoped>\n",
       "    .dataframe tbody tr th:only-of-type {\n",
       "        vertical-align: middle;\n",
       "    }\n",
       "\n",
       "    .dataframe tbody tr th {\n",
       "        vertical-align: top;\n",
       "    }\n",
       "\n",
       "    .dataframe thead th {\n",
       "        text-align: right;\n",
       "    }\n",
       "</style>\n",
       "<table border=\"1\" class=\"dataframe\">\n",
       "  <thead>\n",
       "    <tr style=\"text-align: right;\">\n",
       "      <th></th>\n",
       "      <th>Costomer</th>\n",
       "      <th>Year</th>\n",
       "      <th>Name of month</th>\n",
       "      <th>Amount</th>\n",
       "    </tr>\n",
       "  </thead>\n",
       "  <tbody>\n",
       "    <tr>\n",
       "      <th>0</th>\n",
       "      <td>A1</td>\n",
       "      <td>2004</td>\n",
       "      <td>Feb</td>\n",
       "      <td>191180.012</td>\n",
       "    </tr>\n",
       "    <tr>\n",
       "      <th>1</th>\n",
       "      <td>A1</td>\n",
       "      <td>2004</td>\n",
       "      <td>Jan</td>\n",
       "      <td>1362775.235</td>\n",
       "    </tr>\n",
       "    <tr>\n",
       "      <th>2</th>\n",
       "      <td>A1</td>\n",
       "      <td>2005</td>\n",
       "      <td>Feb</td>\n",
       "      <td>1199807.625</td>\n",
       "    </tr>\n",
       "    <tr>\n",
       "      <th>3</th>\n",
       "      <td>A1</td>\n",
       "      <td>2005</td>\n",
       "      <td>Jan</td>\n",
       "      <td>1581.970</td>\n",
       "    </tr>\n",
       "    <tr>\n",
       "      <th>4</th>\n",
       "      <td>A1</td>\n",
       "      <td>2005</td>\n",
       "      <td>Jul</td>\n",
       "      <td>300581.703</td>\n",
       "    </tr>\n",
       "    <tr>\n",
       "      <th>...</th>\n",
       "      <td>...</td>\n",
       "      <td>...</td>\n",
       "      <td>...</td>\n",
       "      <td>...</td>\n",
       "    </tr>\n",
       "    <tr>\n",
       "      <th>793</th>\n",
       "      <td>A95</td>\n",
       "      <td>2004</td>\n",
       "      <td>Jan</td>\n",
       "      <td>75109.492</td>\n",
       "    </tr>\n",
       "    <tr>\n",
       "      <th>794</th>\n",
       "      <td>A96</td>\n",
       "      <td>2004</td>\n",
       "      <td>Jan</td>\n",
       "      <td>110139.014</td>\n",
       "    </tr>\n",
       "    <tr>\n",
       "      <th>795</th>\n",
       "      <td>A97</td>\n",
       "      <td>2004</td>\n",
       "      <td>Jan</td>\n",
       "      <td>174606.392</td>\n",
       "    </tr>\n",
       "    <tr>\n",
       "      <th>796</th>\n",
       "      <td>A98</td>\n",
       "      <td>2004</td>\n",
       "      <td>Jan</td>\n",
       "      <td>97802.599</td>\n",
       "    </tr>\n",
       "    <tr>\n",
       "      <th>797</th>\n",
       "      <td>A99</td>\n",
       "      <td>2004</td>\n",
       "      <td>Jan</td>\n",
       "      <td>358589.924</td>\n",
       "    </tr>\n",
       "  </tbody>\n",
       "</table>\n",
       "<p>798 rows × 4 columns</p>\n",
       "</div>"
      ],
      "text/plain": [
       "    Costomer  Year Name of month      Amount\n",
       "0         A1  2004           Feb  191180.012\n",
       "1         A1  2004           Jan 1362775.235\n",
       "2         A1  2005           Feb 1199807.625\n",
       "3         A1  2005           Jan    1581.970\n",
       "4         A1  2005           Jul  300581.703\n",
       "..       ...   ...           ...         ...\n",
       "793      A95  2004           Jan   75109.492\n",
       "794      A96  2004           Jan  110139.014\n",
       "795      A97  2004           Jan  174606.392\n",
       "796      A98  2004           Jan   97802.599\n",
       "797      A99  2004           Jan  358589.924\n",
       "\n",
       "[798 rows x 4 columns]"
      ]
     },
     "execution_count": 156,
     "metadata": {},
     "output_type": "execute_result"
    }
   ],
   "source": [
    "Q2=df2.groupby(['Costomer','Year','Name of month']).sum().reset_index()\n",
    "Q2['Costomer'].str.strip()\n",
    "Q2.sort_values(['Costomer','Year','Name of month'])"
   ]
  },
  {
   "cell_type": "code",
   "execution_count": 157,
   "id": "02e957fb",
   "metadata": {},
   "outputs": [
    {
     "data": {
      "text/html": [
       "<div>\n",
       "<style scoped>\n",
       "    .dataframe tbody tr th:only-of-type {\n",
       "        vertical-align: middle;\n",
       "    }\n",
       "\n",
       "    .dataframe tbody tr th {\n",
       "        vertical-align: top;\n",
       "    }\n",
       "\n",
       "    .dataframe thead th {\n",
       "        text-align: right;\n",
       "    }\n",
       "</style>\n",
       "<table border=\"1\" class=\"dataframe\">\n",
       "  <thead>\n",
       "    <tr style=\"text-align: right;\">\n",
       "      <th></th>\n",
       "      <th>Costomer</th>\n",
       "      <th>Year</th>\n",
       "      <th>Name of month</th>\n",
       "      <th>Amount</th>\n",
       "    </tr>\n",
       "  </thead>\n",
       "  <tbody>\n",
       "    <tr>\n",
       "      <th>0</th>\n",
       "      <td>A1</td>\n",
       "      <td>2004</td>\n",
       "      <td>Feb</td>\n",
       "      <td>191180.012</td>\n",
       "    </tr>\n",
       "    <tr>\n",
       "      <th>1</th>\n",
       "      <td>A1</td>\n",
       "      <td>2004</td>\n",
       "      <td>Jan</td>\n",
       "      <td>1362775.235</td>\n",
       "    </tr>\n",
       "    <tr>\n",
       "      <th>2</th>\n",
       "      <td>A1</td>\n",
       "      <td>2005</td>\n",
       "      <td>Feb</td>\n",
       "      <td>1199807.625</td>\n",
       "    </tr>\n",
       "    <tr>\n",
       "      <th>3</th>\n",
       "      <td>A1</td>\n",
       "      <td>2005</td>\n",
       "      <td>Jan</td>\n",
       "      <td>1581.970</td>\n",
       "    </tr>\n",
       "    <tr>\n",
       "      <th>4</th>\n",
       "      <td>A1</td>\n",
       "      <td>2005</td>\n",
       "      <td>Jul</td>\n",
       "      <td>300581.703</td>\n",
       "    </tr>\n",
       "  </tbody>\n",
       "</table>\n",
       "</div>"
      ],
      "text/plain": [
       "  Costomer  Year Name of month      Amount\n",
       "0       A1  2004           Feb  191180.012\n",
       "1       A1  2004           Jan 1362775.235\n",
       "2       A1  2005           Feb 1199807.625\n",
       "3       A1  2005           Jan    1581.970\n",
       "4       A1  2005           Jul  300581.703"
      ]
     },
     "execution_count": 157,
     "metadata": {},
     "output_type": "execute_result"
    }
   ],
   "source": [
    "g2 = Q2.loc[Q2['Costomer'].isin(['A1','A2','A3','A4','A5','A6','A7','A8','A9','A10'])]\n",
    "g2.head()"
   ]
  },
  {
   "cell_type": "code",
   "execution_count": 158,
   "id": "5d823fd7",
   "metadata": {},
   "outputs": [
    {
     "data": {
      "text/plain": [
       "<seaborn.axisgrid.FacetGrid at 0x14cdfa32910>"
      ]
     },
     "execution_count": 158,
     "metadata": {},
     "output_type": "execute_result"
    },
    {
     "data": {
      "image/png": "[encoded data removed]",
      "text/plain": [
       "<Figure size 4015.88x1080 with 33 Axes>"
      ]
     },
     "metadata": {
      "needs_background": "light"
     },
     "output_type": "display_data"
    }
   ],
   "source": [
    "sns.displot(data=g2,\n",
    "    x='Costomer',\n",
    "    y='Amount',\n",
    "    hue='Costomer',\n",
    "    row='Year',\n",
    "    col='Name of month',kind='hist',palette=\"bright\")"
   ]
  },
  {
   "cell_type": "markdown",
   "id": "46ea9f32",
   "metadata": {},
   "source": [
    "# HIGHEST PAYING CUSTOMERS"
   ]
  },
  {
   "cell_type": "code",
   "execution_count": 159,
   "id": "47e76f23",
   "metadata": {},
   "outputs": [],
   "source": [
    "df3=Q2[['Costomer','Amount']].groupby('Costomer').sum()"
   ]
  },
  {
   "cell_type": "code",
   "execution_count": 160,
   "id": "6f6be242",
   "metadata": {},
   "outputs": [],
   "source": [
    "df4=df3['Amount'].sort_values(ascending=False)"
   ]
  },
  {
   "cell_type": "code",
   "execution_count": 161,
   "id": "f3b63f1f",
   "metadata": {},
   "outputs": [
    {
     "data": {
      "text/html": [
       "<div>\n",
       "<style scoped>\n",
       "    .dataframe tbody tr th:only-of-type {\n",
       "        vertical-align: middle;\n",
       "    }\n",
       "\n",
       "    .dataframe tbody tr th {\n",
       "        vertical-align: top;\n",
       "    }\n",
       "\n",
       "    .dataframe thead th {\n",
       "        text-align: right;\n",
       "    }\n",
       "</style>\n",
       "<table border=\"1\" class=\"dataframe\">\n",
       "  <thead>\n",
       "    <tr style=\"text-align: right;\">\n",
       "      <th></th>\n",
       "      <th>Costomer</th>\n",
       "      <th>Amount</th>\n",
       "    </tr>\n",
       "  </thead>\n",
       "  <tbody>\n",
       "    <tr>\n",
       "      <th>0</th>\n",
       "      <td>A22</td>\n",
       "      <td>9767170.683</td>\n",
       "    </tr>\n",
       "    <tr>\n",
       "      <th>1</th>\n",
       "      <td>A60</td>\n",
       "      <td>9262032.375</td>\n",
       "    </tr>\n",
       "    <tr>\n",
       "      <th>2</th>\n",
       "      <td>A61</td>\n",
       "      <td>8807888.339</td>\n",
       "    </tr>\n",
       "    <tr>\n",
       "      <th>3</th>\n",
       "      <td>A40</td>\n",
       "      <td>8805084.898</td>\n",
       "    </tr>\n",
       "    <tr>\n",
       "      <th>4</th>\n",
       "      <td>A47</td>\n",
       "      <td>8529825.865</td>\n",
       "    </tr>\n",
       "    <tr>\n",
       "      <th>5</th>\n",
       "      <td>A43</td>\n",
       "      <td>8458621.332</td>\n",
       "    </tr>\n",
       "    <tr>\n",
       "      <th>6</th>\n",
       "      <td>A48</td>\n",
       "      <td>8432803.656</td>\n",
       "    </tr>\n",
       "    <tr>\n",
       "      <th>7</th>\n",
       "      <td>A41</td>\n",
       "      <td>8374045.758</td>\n",
       "    </tr>\n",
       "    <tr>\n",
       "      <th>8</th>\n",
       "      <td>A49</td>\n",
       "      <td>8259840.547</td>\n",
       "    </tr>\n",
       "    <tr>\n",
       "      <th>9</th>\n",
       "      <td>A45</td>\n",
       "      <td>8115209.875</td>\n",
       "    </tr>\n",
       "  </tbody>\n",
       "</table>\n",
       "</div>"
      ],
      "text/plain": [
       "  Costomer      Amount\n",
       "0      A22 9767170.683\n",
       "1      A60 9262032.375\n",
       "2      A61 8807888.339\n",
       "3      A40 8805084.898\n",
       "4      A47 8529825.865\n",
       "5      A43 8458621.332\n",
       "6      A48 8432803.656\n",
       "7      A41 8374045.758\n",
       "8      A49 8259840.547\n",
       "9      A45 8115209.875"
      ]
     },
     "execution_count": 161,
     "metadata": {},
     "output_type": "execute_result"
    }
   ],
   "source": [
    "Q3=df4.head(10)\n",
    "Q3=Q3.reset_index()\n",
    "Q3"
   ]
  },
  {
   "cell_type": "code",
   "execution_count": 162,
   "id": "cafb1622",
   "metadata": {},
   "outputs": [
    {
     "data": {
      "text/plain": [
       "<AxesSubplot:xlabel='Costomer', ylabel='Amount'>"
      ]
     },
     "execution_count": 162,
     "metadata": {},
     "output_type": "execute_result"
    },
    {
     "data": {
      "image/png": "[encoded data removed]",
      "text/plain": [
       "<Figure size 432x288 with 1 Axes>"
      ]
     },
     "metadata": {
      "needs_background": "light"
     },
     "output_type": "display_data"
    }
   ],
   "source": [
    "sns.barplot( data=Q3,\n",
    "    x='Costomer',\n",
    "    y='Amount',palette=\"Blues_d\")"
   ]
  },
  {
   "cell_type": "markdown",
   "id": "dfc402b9",
   "metadata": {},
   "source": [
    "# HIGHEST SPENDING SEGMENT"
   ]
  },
  {
   "cell_type": "code",
   "execution_count": 163,
   "id": "88d9bbae",
   "metadata": {},
   "outputs": [
    {
     "data": {
      "text/html": [
       "<div>\n",
       "<style scoped>\n",
       "    .dataframe tbody tr th:only-of-type {\n",
       "        vertical-align: middle;\n",
       "    }\n",
       "\n",
       "    .dataframe tbody tr th {\n",
       "        vertical-align: top;\n",
       "    }\n",
       "\n",
       "    .dataframe thead th {\n",
       "        text-align: right;\n",
       "    }\n",
       "</style>\n",
       "<table border=\"1\" class=\"dataframe\">\n",
       "  <thead>\n",
       "    <tr style=\"text-align: right;\">\n",
       "      <th></th>\n",
       "      <th>Customer</th>\n",
       "      <th>Segment</th>\n",
       "    </tr>\n",
       "  </thead>\n",
       "  <tbody>\n",
       "    <tr>\n",
       "      <th>0</th>\n",
       "      <td>A1</td>\n",
       "      <td>Self Employed</td>\n",
       "    </tr>\n",
       "    <tr>\n",
       "      <th>1</th>\n",
       "      <td>A2</td>\n",
       "      <td>Salaried_MNC</td>\n",
       "    </tr>\n",
       "    <tr>\n",
       "      <th>2</th>\n",
       "      <td>A3</td>\n",
       "      <td>Salaried_Pvt</td>\n",
       "    </tr>\n",
       "    <tr>\n",
       "      <th>3</th>\n",
       "      <td>A4</td>\n",
       "      <td>Govt</td>\n",
       "    </tr>\n",
       "    <tr>\n",
       "      <th>4</th>\n",
       "      <td>A5</td>\n",
       "      <td>Normal Salary</td>\n",
       "    </tr>\n",
       "    <tr>\n",
       "      <th>...</th>\n",
       "      <td>...</td>\n",
       "      <td>...</td>\n",
       "    </tr>\n",
       "    <tr>\n",
       "      <th>95</th>\n",
       "      <td>A96</td>\n",
       "      <td>Salaried_Pvt</td>\n",
       "    </tr>\n",
       "    <tr>\n",
       "      <th>96</th>\n",
       "      <td>A97</td>\n",
       "      <td>Govt</td>\n",
       "    </tr>\n",
       "    <tr>\n",
       "      <th>97</th>\n",
       "      <td>A98</td>\n",
       "      <td>Normal Salary</td>\n",
       "    </tr>\n",
       "    <tr>\n",
       "      <th>98</th>\n",
       "      <td>A99</td>\n",
       "      <td>Self Employed</td>\n",
       "    </tr>\n",
       "    <tr>\n",
       "      <th>99</th>\n",
       "      <td>A100</td>\n",
       "      <td>Salaried_MNC</td>\n",
       "    </tr>\n",
       "  </tbody>\n",
       "</table>\n",
       "<p>100 rows × 2 columns</p>\n",
       "</div>"
      ],
      "text/plain": [
       "   Customer        Segment\n",
       "0        A1  Self Employed\n",
       "1        A2   Salaried_MNC\n",
       "2        A3   Salaried_Pvt\n",
       "3        A4           Govt\n",
       "4        A5  Normal Salary\n",
       "..      ...            ...\n",
       "95      A96   Salaried_Pvt\n",
       "96      A97           Govt\n",
       "97      A98  Normal Salary\n",
       "98      A99  Self Employed\n",
       "99     A100   Salaried_MNC\n",
       "\n",
       "[100 rows x 2 columns]"
      ]
     },
     "execution_count": 163,
     "metadata": {},
     "output_type": "execute_result"
    }
   ],
   "source": [
    "df5=ca[['Customer','Segment']]\n",
    "df5"
   ]
  },
  {
   "cell_type": "code",
   "execution_count": 164,
   "id": "2948365a",
   "metadata": {},
   "outputs": [
    {
     "data": {
      "text/plain": [
       "<AxesSubplot:xlabel='Customer', ylabel='Segment'>"
      ]
     },
     "execution_count": 164,
     "metadata": {},
     "output_type": "execute_result"
    },
    {
     "data": {
      "image/png": "[encoded data removed]",
      "text/plain": [
       "<Figure size 432x288 with 1 Axes>"
      ]
     },
     "metadata": {
      "needs_background": "light"
     },
     "output_type": "display_data"
    }
   ],
   "source": [
    "t1=df5.groupby('Segment').count()\n",
    "t1=t1.reset_index()\n",
    "sns.barplot(x='Customer',\n",
    "    y='Segment',\n",
    "    data=t1, palette='BrBG_d')"
   ]
  },
  {
   "cell_type": "code",
   "execution_count": 165,
   "id": "993a4bf2",
   "metadata": {},
   "outputs": [],
   "source": [
    "dictionary = {}\n",
    "\n",
    "for i in range(0, 100):\n",
    "    key = df5['Customer'].iloc[i]\n",
    "    value = df5['Segment'].iloc[i]\n",
    "    dictionary[key]=value"
   ]
  },
  {
   "cell_type": "code",
   "execution_count": 189,
   "id": "cd2138fc",
   "metadata": {},
   "outputs": [],
   "source": [
    "df2['Segment']=df2['Costomer'].map(dictionary)"
   ]
  },
  {
   "cell_type": "code",
   "execution_count": 167,
   "id": "e260f14f",
   "metadata": {},
   "outputs": [
    {
     "data": {
      "text/html": [
       "<div>\n",
       "<style scoped>\n",
       "    .dataframe tbody tr th:only-of-type {\n",
       "        vertical-align: middle;\n",
       "    }\n",
       "\n",
       "    .dataframe tbody tr th {\n",
       "        vertical-align: top;\n",
       "    }\n",
       "\n",
       "    .dataframe thead th {\n",
       "        text-align: right;\n",
       "    }\n",
       "</style>\n",
       "<table border=\"1\" class=\"dataframe\">\n",
       "  <thead>\n",
       "    <tr style=\"text-align: right;\">\n",
       "      <th></th>\n",
       "      <th>Segment</th>\n",
       "      <th>Amount</th>\n",
       "    </tr>\n",
       "  </thead>\n",
       "  <tbody>\n",
       "    <tr>\n",
       "      <th>1</th>\n",
       "      <td>Normal Salary</td>\n",
       "      <td>107108892.771</td>\n",
       "    </tr>\n",
       "    <tr>\n",
       "      <th>4</th>\n",
       "      <td>Self Employed</td>\n",
       "      <td>70551286.954</td>\n",
       "    </tr>\n",
       "    <tr>\n",
       "      <th>3</th>\n",
       "      <td>Salaried_Pvt</td>\n",
       "      <td>65779451.403</td>\n",
       "    </tr>\n",
       "    <tr>\n",
       "      <th>0</th>\n",
       "      <td>Govt</td>\n",
       "      <td>65171408.921</td>\n",
       "    </tr>\n",
       "    <tr>\n",
       "      <th>2</th>\n",
       "      <td>Salaried_MNC</td>\n",
       "      <td>62597404.077</td>\n",
       "    </tr>\n",
       "  </tbody>\n",
       "</table>\n",
       "</div>"
      ],
      "text/plain": [
       "         Segment        Amount\n",
       "1  Normal Salary 107108892.771\n",
       "4  Self Employed  70551286.954\n",
       "3   Salaried_Pvt  65779451.403\n",
       "0           Govt  65171408.921\n",
       "2   Salaried_MNC  62597404.077"
      ]
     },
     "execution_count": 167,
     "metadata": {},
     "output_type": "execute_result"
    }
   ],
   "source": [
    "Q4=df2[['Amount','Segment']].groupby('Segment').sum()\n",
    "Q4=Q4.reset_index()\n",
    "Q4=Q4.sort_values(by='Amount', ascending=False)\n",
    "Q4"
   ]
  },
  {
   "cell_type": "code",
   "execution_count": 168,
   "id": "391ab5db",
   "metadata": {},
   "outputs": [
    {
     "data": {
      "text/plain": [
       "<AxesSubplot:xlabel='Segment', ylabel='Amount'>"
      ]
     },
     "execution_count": 168,
     "metadata": {},
     "output_type": "execute_result"
    },
    {
     "data": {
      "image/png": "[encoded data removed]",
      "text/plain": [
       "<Figure size 432x288 with 1 Axes>"
      ]
     },
     "metadata": {
      "needs_background": "light"
     },
     "output_type": "display_data"
    }
   ],
   "source": [
    "sns.barplot(x='Segment',\n",
    "    y='Amount',\n",
    "    data= Q4,palette=\"summer_r\")"
   ]
  },
  {
   "cell_type": "markdown",
   "id": "821b7bc9",
   "metadata": {},
   "source": [
    "#    HIGHEST SPENDING AGE GROUP "
   ]
  },
  {
   "cell_type": "code",
   "execution_count": 169,
   "id": "af280437",
   "metadata": {},
   "outputs": [
    {
     "data": {
      "text/html": [
       "<div>\n",
       "<style scoped>\n",
       "    .dataframe tbody tr th:only-of-type {\n",
       "        vertical-align: middle;\n",
       "    }\n",
       "\n",
       "    .dataframe tbody tr th {\n",
       "        vertical-align: top;\n",
       "    }\n",
       "\n",
       "    .dataframe thead th {\n",
       "        text-align: right;\n",
       "    }\n",
       "</style>\n",
       "<table border=\"1\" class=\"dataframe\">\n",
       "  <thead>\n",
       "    <tr style=\"text-align: right;\">\n",
       "      <th></th>\n",
       "      <th>Customer</th>\n",
       "      <th>Age</th>\n",
       "    </tr>\n",
       "  </thead>\n",
       "  <tbody>\n",
       "    <tr>\n",
       "      <th>0</th>\n",
       "      <td>A1</td>\n",
       "      <td>0.929</td>\n",
       "    </tr>\n",
       "    <tr>\n",
       "      <th>1</th>\n",
       "      <td>A2</td>\n",
       "      <td>35.535</td>\n",
       "    </tr>\n",
       "    <tr>\n",
       "      <th>2</th>\n",
       "      <td>A3</td>\n",
       "      <td>11.559</td>\n",
       "    </tr>\n",
       "    <tr>\n",
       "      <th>3</th>\n",
       "      <td>A4</td>\n",
       "      <td>45.820</td>\n",
       "    </tr>\n",
       "    <tr>\n",
       "      <th>4</th>\n",
       "      <td>A5</td>\n",
       "      <td>69.664</td>\n",
       "    </tr>\n",
       "    <tr>\n",
       "      <th>...</th>\n",
       "      <td>...</td>\n",
       "      <td>...</td>\n",
       "    </tr>\n",
       "    <tr>\n",
       "      <th>95</th>\n",
       "      <td>A96</td>\n",
       "      <td>29.632</td>\n",
       "    </tr>\n",
       "    <tr>\n",
       "      <th>96</th>\n",
       "      <td>A97</td>\n",
       "      <td>20.612</td>\n",
       "    </tr>\n",
       "    <tr>\n",
       "      <th>97</th>\n",
       "      <td>A98</td>\n",
       "      <td>40.539</td>\n",
       "    </tr>\n",
       "    <tr>\n",
       "      <th>98</th>\n",
       "      <td>A99</td>\n",
       "      <td>21.589</td>\n",
       "    </tr>\n",
       "    <tr>\n",
       "      <th>99</th>\n",
       "      <td>A100</td>\n",
       "      <td>23.608</td>\n",
       "    </tr>\n",
       "  </tbody>\n",
       "</table>\n",
       "<p>100 rows × 2 columns</p>\n",
       "</div>"
      ],
      "text/plain": [
       "   Customer    Age\n",
       "0        A1  0.929\n",
       "1        A2 35.535\n",
       "2        A3 11.559\n",
       "3        A4 45.820\n",
       "4        A5 69.664\n",
       "..      ...    ...\n",
       "95      A96 29.632\n",
       "96      A97 20.612\n",
       "97      A98 40.539\n",
       "98      A99 21.589\n",
       "99     A100 23.608\n",
       "\n",
       "[100 rows x 2 columns]"
      ]
     },
     "execution_count": 169,
     "metadata": {},
     "output_type": "execute_result"
    }
   ],
   "source": [
    "df6=ca[['Customer','Age']]\n",
    "df6"
   ]
  },
  {
   "cell_type": "code",
   "execution_count": 170,
   "id": "0f7f0364",
   "metadata": {},
   "outputs": [],
   "source": [
    "dictionary = {}\n",
    "for i in range (0,100):\n",
    "    key = df6['Customer'].iloc[i]\n",
    "    value = df6['Age'].iloc[i]\n",
    "    dictionary[key]=value"
   ]
  },
  {
   "cell_type": "code",
   "execution_count": 171,
   "id": "1c698224",
   "metadata": {},
   "outputs": [],
   "source": [
    "df2['Age']=df2['Costomer'].map(dictionary)\n"
   ]
  },
  {
   "cell_type": "code",
   "execution_count": 172,
   "id": "c540852f",
   "metadata": {},
   "outputs": [],
   "source": [
    "df2['r_age']=df2['Age'].apply(np.ceil)\n"
   ]
  },
  {
   "cell_type": "code",
   "execution_count": 173,
   "id": "fc1e777a",
   "metadata": {},
   "outputs": [],
   "source": [
    "r1=df2.groupby('r_age').sum()\n",
    "r1=r1.reset_index()"
   ]
  },
  {
   "cell_type": "code",
   "execution_count": 174,
   "id": "c1756938",
   "metadata": {},
   "outputs": [
    {
     "data": {
      "text/plain": [
       "<AxesSubplot:xlabel='r_age'>"
      ]
     },
     "execution_count": 174,
     "metadata": {},
     "output_type": "execute_result"
    },
    {
     "data": {
      "image/png": "[encoded data removed]",
      "text/plain": [
       "<Figure size 432x288 with 1 Axes>"
      ]
     },
     "metadata": {
      "needs_background": "light"
     },
     "output_type": "display_data"
    }
   ],
   "source": [
    "r1.plot(x='r_age',y='Amount',kind='area')"
   ]
  },
  {
   "cell_type": "code",
   "execution_count": 175,
   "id": "568bb7b0",
   "metadata": {},
   "outputs": [],
   "source": [
    "age_groups = [ (18,30), (31,40), (41,50), (51,60), (61,70),(71,80)]"
   ]
  },
  {
   "cell_type": "code",
   "execution_count": 176,
   "id": "4c5c38a2",
   "metadata": {},
   "outputs": [],
   "source": [
    "df2['Agegroup'] = np.digitize(df2['Age'], bins=[x[0] for x in age_groups] + [age_groups[-1][1]+1])"
   ]
  },
  {
   "cell_type": "code",
   "execution_count": 177,
   "id": "ccb1b826",
   "metadata": {},
   "outputs": [],
   "source": [
    "df2['Agegroup'] = df2['Agegroup'].map({i: f'{age_groups[i-1][0]}-{age_groups[i-1][1]}' for i in range(1, len(age_groups)+1)})"
   ]
  },
  {
   "cell_type": "code",
   "execution_count": 178,
   "id": "4d9356c1",
   "metadata": {},
   "outputs": [
    {
     "data": {
      "text/html": [
       "<div>\n",
       "<style scoped>\n",
       "    .dataframe tbody tr th:only-of-type {\n",
       "        vertical-align: middle;\n",
       "    }\n",
       "\n",
       "    .dataframe tbody tr th {\n",
       "        vertical-align: top;\n",
       "    }\n",
       "\n",
       "    .dataframe thead th {\n",
       "        text-align: right;\n",
       "    }\n",
       "</style>\n",
       "<table border=\"1\" class=\"dataframe\">\n",
       "  <thead>\n",
       "    <tr style=\"text-align: right;\">\n",
       "      <th></th>\n",
       "      <th>Agegroup</th>\n",
       "      <th>Amount</th>\n",
       "    </tr>\n",
       "  </thead>\n",
       "  <tbody>\n",
       "    <tr>\n",
       "      <th>0</th>\n",
       "      <td>18-30</td>\n",
       "      <td>40398309.769</td>\n",
       "    </tr>\n",
       "    <tr>\n",
       "      <th>1</th>\n",
       "      <td>31-40</td>\n",
       "      <td>35471879.203</td>\n",
       "    </tr>\n",
       "    <tr>\n",
       "      <th>2</th>\n",
       "      <td>41-50</td>\n",
       "      <td>25054902.900</td>\n",
       "    </tr>\n",
       "    <tr>\n",
       "      <th>3</th>\n",
       "      <td>51-60</td>\n",
       "      <td>47252805.981</td>\n",
       "    </tr>\n",
       "    <tr>\n",
       "      <th>4</th>\n",
       "      <td>61-70</td>\n",
       "      <td>76528068.210</td>\n",
       "    </tr>\n",
       "    <tr>\n",
       "      <th>5</th>\n",
       "      <td>71-80</td>\n",
       "      <td>56454381.482</td>\n",
       "    </tr>\n",
       "  </tbody>\n",
       "</table>\n",
       "</div>"
      ],
      "text/plain": [
       "  Agegroup       Amount\n",
       "0    18-30 40398309.769\n",
       "1    31-40 35471879.203\n",
       "2    41-50 25054902.900\n",
       "3    51-60 47252805.981\n",
       "4    61-70 76528068.210\n",
       "5    71-80 56454381.482"
      ]
     },
     "execution_count": 178,
     "metadata": {},
     "output_type": "execute_result"
    }
   ],
   "source": [
    "df7=df2[['Agegroup','Amount']]\n",
    "Q5=df7.groupby('Agegroup').sum().reset_index()\n",
    "Q5"
   ]
  },
  {
   "cell_type": "code",
   "execution_count": 179,
   "id": "0e66a8a3",
   "metadata": {},
   "outputs": [
    {
     "data": {
      "text/plain": [
       "<AxesSubplot:xlabel='Agegroup'>"
      ]
     },
     "execution_count": 179,
     "metadata": {},
     "output_type": "execute_result"
    },
    {
     "data": {
      "image/png": "[encoded data removed]",
      "text/plain": [
       "<Figure size 432x288 with 1 Axes>"
      ]
     },
     "metadata": {
      "needs_background": "light"
     },
     "output_type": "display_data"
    }
   ],
   "source": [
    "Q5.plot(x='Agegroup',y='Amount',kind='line')"
   ]
  },
  {
   "cell_type": "markdown",
   "id": "a0d13bc8",
   "metadata": {},
   "source": [
    "# HIGHEST SPENDING CATEGORY"
   ]
  },
  {
   "cell_type": "code",
   "execution_count": 180,
   "id": "422baf83",
   "metadata": {},
   "outputs": [
    {
     "data": {
      "text/html": [
       "<div>\n",
       "<style scoped>\n",
       "    .dataframe tbody tr th:only-of-type {\n",
       "        vertical-align: middle;\n",
       "    }\n",
       "\n",
       "    .dataframe tbody tr th {\n",
       "        vertical-align: top;\n",
       "    }\n",
       "\n",
       "    .dataframe thead th {\n",
       "        text-align: right;\n",
       "    }\n",
       "</style>\n",
       "<table border=\"1\" class=\"dataframe\">\n",
       "  <thead>\n",
       "    <tr style=\"text-align: right;\">\n",
       "      <th></th>\n",
       "      <th>Type</th>\n",
       "      <th>Amount</th>\n",
       "    </tr>\n",
       "  </thead>\n",
       "  <tbody>\n",
       "    <tr>\n",
       "      <th>10</th>\n",
       "      <td>PETRO</td>\n",
       "      <td>51022582.685</td>\n",
       "    </tr>\n",
       "    <tr>\n",
       "      <th>4</th>\n",
       "      <td>CAMERA</td>\n",
       "      <td>43721012.594</td>\n",
       "    </tr>\n",
       "    <tr>\n",
       "      <th>7</th>\n",
       "      <td>FOOD</td>\n",
       "      <td>38296462.747</td>\n",
       "    </tr>\n",
       "    <tr>\n",
       "      <th>0</th>\n",
       "      <td>AIR TICKET</td>\n",
       "      <td>37435465.640</td>\n",
       "    </tr>\n",
       "    <tr>\n",
       "      <th>14</th>\n",
       "      <td>TRAIN TICKET</td>\n",
       "      <td>31812624.166</td>\n",
       "    </tr>\n",
       "  </tbody>\n",
       "</table>\n",
       "</div>"
      ],
      "text/plain": [
       "            Type       Amount\n",
       "10         PETRO 51022582.685\n",
       "4         CAMERA 43721012.594\n",
       "7           FOOD 38296462.747\n",
       "0     AIR TICKET 37435465.640\n",
       "14  TRAIN TICKET 31812624.166"
      ]
     },
     "execution_count": 180,
     "metadata": {},
     "output_type": "execute_result"
    }
   ],
   "source": [
    "df8=sp[['Type','Amount']]\n",
    "Q6=df8.groupby('Type').sum().reset_index()\n",
    "Q6.sort_values('Amount',ascending= False).head()"
   ]
  },
  {
   "cell_type": "code",
   "execution_count": 181,
   "id": "383e0076",
   "metadata": {},
   "outputs": [
    {
     "data": {
      "text/plain": [
       "<AxesSubplot:xlabel='Amount', ylabel='Type'>"
      ]
     },
     "execution_count": 181,
     "metadata": {},
     "output_type": "execute_result"
    },
    {
     "data": {
      "image/png": "[encoded data removed]",
      "text/plain": [
       "<Figure size 432x288 with 1 Axes>"
      ]
     },
     "metadata": {
      "needs_background": "light"
     },
     "output_type": "display_data"
    }
   ],
   "source": [
    "sns.barplot(x='Amount',\n",
    "    y='Type',\n",
    "    data=Q6,palette=\"summer_r\" )"
   ]
  },
  {
   "cell_type": "markdown",
   "id": "1066fc52",
   "metadata": {},
   "source": [
    "# BANK PROFIT"
   ]
  },
  {
   "cell_type": "code",
   "execution_count": 182,
   "id": "8ac63f38",
   "metadata": {},
   "outputs": [
    {
     "data": {
      "text/html": [
       "<div>\n",
       "<style scoped>\n",
       "    .dataframe tbody tr th:only-of-type {\n",
       "        vertical-align: middle;\n",
       "    }\n",
       "\n",
       "    .dataframe tbody tr th {\n",
       "        vertical-align: top;\n",
       "    }\n",
       "\n",
       "    .dataframe thead th {\n",
       "        text-align: right;\n",
       "    }\n",
       "</style>\n",
       "<table border=\"1\" class=\"dataframe\">\n",
       "  <thead>\n",
       "    <tr style=\"text-align: right;\">\n",
       "      <th></th>\n",
       "      <th>Costomer</th>\n",
       "      <th>Year</th>\n",
       "      <th>no of month</th>\n",
       "      <th>Amount</th>\n",
       "    </tr>\n",
       "  </thead>\n",
       "  <tbody>\n",
       "    <tr>\n",
       "      <th>0</th>\n",
       "      <td>A1</td>\n",
       "      <td>2004</td>\n",
       "      <td>1</td>\n",
       "      <td>473775.835</td>\n",
       "    </tr>\n",
       "    <tr>\n",
       "      <th>1</th>\n",
       "      <td>A1</td>\n",
       "      <td>2004</td>\n",
       "      <td>1</td>\n",
       "      <td>335578.666</td>\n",
       "    </tr>\n",
       "    <tr>\n",
       "      <th>2</th>\n",
       "      <td>A1</td>\n",
       "      <td>2004</td>\n",
       "      <td>1</td>\n",
       "      <td>371040.942</td>\n",
       "    </tr>\n",
       "    <tr>\n",
       "      <th>3</th>\n",
       "      <td>A1</td>\n",
       "      <td>2004</td>\n",
       "      <td>1</td>\n",
       "      <td>141177.813</td>\n",
       "    </tr>\n",
       "    <tr>\n",
       "      <th>4</th>\n",
       "      <td>A1</td>\n",
       "      <td>2005</td>\n",
       "      <td>1</td>\n",
       "      <td>398403.772</td>\n",
       "    </tr>\n",
       "  </tbody>\n",
       "</table>\n",
       "</div>"
      ],
      "text/plain": [
       "  Costomer  Year  no of month     Amount\n",
       "0       A1  2004            1 473775.835\n",
       "1       A1  2004            1 335578.666\n",
       "2       A1  2004            1 371040.942\n",
       "3       A1  2004            1 141177.813\n",
       "4       A1  2005            1 398403.772"
      ]
     },
     "execution_count": 182,
     "metadata": {},
     "output_type": "execute_result"
    }
   ],
   "source": [
    "sp['Month']=pd.to_datetime(sp['Month'])\n",
    "sp['no of month']=sp['Month'].apply(lambda month : month.month)\n",
    "df10=sp[['Costomer','Year','no of month','Amount']]\n",
    "df10.head()"
   ]
  },
  {
   "cell_type": "code",
   "execution_count": 183,
   "id": "03a5673e",
   "metadata": {},
   "outputs": [
    {
     "data": {
      "text/html": [
       "<div>\n",
       "<style scoped>\n",
       "    .dataframe tbody tr th:only-of-type {\n",
       "        vertical-align: middle;\n",
       "    }\n",
       "\n",
       "    .dataframe tbody tr th {\n",
       "        vertical-align: top;\n",
       "    }\n",
       "\n",
       "    .dataframe thead th {\n",
       "        text-align: right;\n",
       "    }\n",
       "</style>\n",
       "<table border=\"1\" class=\"dataframe\">\n",
       "  <thead>\n",
       "    <tr style=\"text-align: right;\">\n",
       "      <th></th>\n",
       "      <th>Costomer</th>\n",
       "      <th>Year</th>\n",
       "      <th>no of month</th>\n",
       "      <th>Amount</th>\n",
       "    </tr>\n",
       "  </thead>\n",
       "  <tbody>\n",
       "    <tr>\n",
       "      <th>0</th>\n",
       "      <td>A1</td>\n",
       "      <td>2004</td>\n",
       "      <td>1</td>\n",
       "      <td>331844.007</td>\n",
       "    </tr>\n",
       "    <tr>\n",
       "      <th>1</th>\n",
       "      <td>A1</td>\n",
       "      <td>2004</td>\n",
       "      <td>1</td>\n",
       "      <td>441139.807</td>\n",
       "    </tr>\n",
       "    <tr>\n",
       "      <th>2</th>\n",
       "      <td>A1</td>\n",
       "      <td>2004</td>\n",
       "      <td>1</td>\n",
       "      <td>32480.004</td>\n",
       "    </tr>\n",
       "    <tr>\n",
       "      <th>3</th>\n",
       "      <td>A1</td>\n",
       "      <td>2004</td>\n",
       "      <td>1</td>\n",
       "      <td>90636.967</td>\n",
       "    </tr>\n",
       "    <tr>\n",
       "      <th>4</th>\n",
       "      <td>A1</td>\n",
       "      <td>2005</td>\n",
       "      <td>1</td>\n",
       "      <td>1581.970</td>\n",
       "    </tr>\n",
       "  </tbody>\n",
       "</table>\n",
       "</div>"
      ],
      "text/plain": [
       "  Costomer  Year  no of month     Amount\n",
       "0       A1  2004            1 331844.007\n",
       "1       A1  2004            1 441139.807\n",
       "2       A1  2004            1  32480.004\n",
       "3       A1  2004            1  90636.967\n",
       "4       A1  2005            1   1581.970"
      ]
     },
     "execution_count": 183,
     "metadata": {},
     "output_type": "execute_result"
    }
   ],
   "source": [
    "rp['Month']=pd.to_datetime(rp['Month'])\n",
    "rp['no of month']=rp['Month'].apply(lambda month : month.month)\n",
    "df9=rp[['Costomer','Year','no of month','Amount']]\n",
    "df9.head()"
   ]
  },
  {
   "cell_type": "code",
   "execution_count": 184,
   "id": "7f822527",
   "metadata": {},
   "outputs": [],
   "source": [
    "spm=df10.groupby(['Costomer','Year','no of month']).sum().reset_index()"
   ]
  },
  {
   "cell_type": "code",
   "execution_count": 185,
   "id": "6a5efc59",
   "metadata": {},
   "outputs": [],
   "source": [
    "rpm=df9.groupby(['Costomer','Year','no of month']).sum().reset_index()"
   ]
  },
  {
   "cell_type": "code",
   "execution_count": 186,
   "id": "b90d4f18",
   "metadata": {},
   "outputs": [],
   "source": [
    "balance_amount=spm['Amount']-rpm['Amount']"
   ]
  },
  {
   "cell_type": "code",
   "execution_count": 187,
   "id": "45e18eac",
   "metadata": {},
   "outputs": [],
   "source": [
    "Bank_profit=0.029*balance_amount.sum()"
   ]
  },
  {
   "cell_type": "code",
   "execution_count": 188,
   "id": "56d9e997",
   "metadata": {},
   "outputs": [
    {
     "data": {
      "text/plain": [
       "219483.73867848454"
      ]
     },
     "execution_count": 188,
     "metadata": {},
     "output_type": "execute_result"
    }
   ],
   "source": [
    "Bank_profit"
   ]
  },
  {
   "cell_type": "markdown",
   "id": "9a0e16ed",
   "metadata": {},
   "source": [
    "# VALUABLE INSIGHTS"
   ]
  },
  {
   "cell_type": "markdown",
   "id": "c3d9eb77",
   "metadata": {},
   "source": [
    "•Most of our customer base comprises individuals from the government and self-employed sectors."
   ]
  },
  {
   "cell_type": "markdown",
   "id": "659110a7",
   "metadata": {},
   "source": [
    "•In terms of expenditure, both salaried and self-employed individuals rank highly. "
   ]
  },
  {
   "cell_type": "markdown",
   "id": "6924e0b0",
   "metadata": {},
   "source": [
    "•Notably, individuals above the age of 50, particularly within the 60-70 age group, make up a significant portion of our credit card users. "
   ]
  },
  {
   "cell_type": "markdown",
   "id": "afa4a360",
   "metadata": {},
   "source": [
    "•The transactions conducted by our customers primarily involve everyday essentials such as food, fuel, and travel tickets. "
   ]
  },
  {
   "cell_type": "markdown",
   "id": "6032387e",
   "metadata": {},
   "source": [
    "•Specifically, customers with the identification numbers 22, 60, 61, 40, and 47 are the most frequent users of our card services."
   ]
  }
 ],
 "metadata": {
  "kernelspec": {
   "display_name": "Python 3 (ipykernel)",
   "language": "python",
   "name": "python3"
  },
  "language_info": {
   "codemirror_mode": {
    "name": "ipython",
    "version": 3
   },
   "file_extension": ".py",
   "mimetype": "text/x-python",
   "name": "python",
   "nbconvert_exporter": "python",
   "pygments_lexer": "ipython3",
   "version": "3.9.12"
  }
 },
 "nbformat": 4,
 "nbformat_minor": 5
}
