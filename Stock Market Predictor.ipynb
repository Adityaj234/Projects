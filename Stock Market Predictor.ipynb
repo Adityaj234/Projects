{
 "cells": [
  {
   "cell_type": "code",
   "execution_count": 99,
   "id": "3549acfc",
   "metadata": {},
   "outputs": [],
   "source": [
    "import pandas as pd\n",
    "import matplotlib.pyplot as plt\n",
    "import datetime\n",
    "from datetime import date, time\n",
    "\n",
    "try:\n",
    "    import yfinance\n",
    "except:\n",
    "    !pip install -q yfinance\n",
    "    import yfinance\n",
    "    \n",
    "try:\n",
    "    import yahoofinancials\n",
    "except:\n",
    "    !pip install -q yahoofinancials\n",
    "    import yahoofinancials\n",
    "    \n",
    "import yfinance as yf\n",
    "from yahoofinancials import YahooFinancials\n",
    "import datetime\n",
    "import warnings\n",
    "\n",
    "warnings.filterwarnings('ignore')\n",
    "\n",
    "start_date = '2010-01-01'\n",
    "end_date = datetime.date.today()\n",
    "\n",
    "df = yf.download('NVDA', start=start_date, end=end_date, progress=False)\n",
    "\n",
    "\n"
   ]
  },
  {
   "cell_type": "code",
   "execution_count": 100,
   "id": "746343ac",
   "metadata": {},
   "outputs": [
    {
     "data": {
      "text/html": [
       "<div>\n",
       "<style scoped>\n",
       "    .dataframe tbody tr th:only-of-type {\n",
       "        vertical-align: middle;\n",
       "    }\n",
       "\n",
       "    .dataframe tbody tr th {\n",
       "        vertical-align: top;\n",
       "    }\n",
       "\n",
       "    .dataframe thead th {\n",
       "        text-align: right;\n",
       "    }\n",
       "</style>\n",
       "<table border=\"1\" class=\"dataframe\">\n",
       "  <thead>\n",
       "    <tr style=\"text-align: right;\">\n",
       "      <th></th>\n",
       "      <th>Open</th>\n",
       "      <th>High</th>\n",
       "      <th>Low</th>\n",
       "      <th>Close</th>\n",
       "      <th>Adj Close</th>\n",
       "      <th>Volume</th>\n",
       "    </tr>\n",
       "    <tr>\n",
       "      <th>Date</th>\n",
       "      <th></th>\n",
       "      <th></th>\n",
       "      <th></th>\n",
       "      <th></th>\n",
       "      <th></th>\n",
       "      <th></th>\n",
       "    </tr>\n",
       "  </thead>\n",
       "  <tbody>\n",
       "    <tr>\n",
       "      <th>2010-01-04</th>\n",
       "      <td>4.627500</td>\n",
       "      <td>4.655000</td>\n",
       "      <td>4.527500</td>\n",
       "      <td>4.622500</td>\n",
       "      <td>4.241151</td>\n",
       "      <td>80020400</td>\n",
       "    </tr>\n",
       "    <tr>\n",
       "      <th>2010-01-05</th>\n",
       "      <td>4.605000</td>\n",
       "      <td>4.740000</td>\n",
       "      <td>4.605000</td>\n",
       "      <td>4.690000</td>\n",
       "      <td>4.303081</td>\n",
       "      <td>72864800</td>\n",
       "    </tr>\n",
       "    <tr>\n",
       "      <th>2010-01-06</th>\n",
       "      <td>4.687500</td>\n",
       "      <td>4.730000</td>\n",
       "      <td>4.642500</td>\n",
       "      <td>4.720000</td>\n",
       "      <td>4.330606</td>\n",
       "      <td>64916800</td>\n",
       "    </tr>\n",
       "    <tr>\n",
       "      <th>2010-01-07</th>\n",
       "      <td>4.695000</td>\n",
       "      <td>4.715000</td>\n",
       "      <td>4.592500</td>\n",
       "      <td>4.627500</td>\n",
       "      <td>4.245739</td>\n",
       "      <td>54779200</td>\n",
       "    </tr>\n",
       "    <tr>\n",
       "      <th>2010-01-08</th>\n",
       "      <td>4.590000</td>\n",
       "      <td>4.670000</td>\n",
       "      <td>4.562500</td>\n",
       "      <td>4.637500</td>\n",
       "      <td>4.254913</td>\n",
       "      <td>47816800</td>\n",
       "    </tr>\n",
       "    <tr>\n",
       "      <th>...</th>\n",
       "      <td>...</td>\n",
       "      <td>...</td>\n",
       "      <td>...</td>\n",
       "      <td>...</td>\n",
       "      <td>...</td>\n",
       "      <td>...</td>\n",
       "    </tr>\n",
       "    <tr>\n",
       "      <th>2023-08-21</th>\n",
       "      <td>444.940002</td>\n",
       "      <td>470.649994</td>\n",
       "      <td>442.220001</td>\n",
       "      <td>469.670013</td>\n",
       "      <td>469.670013</td>\n",
       "      <td>69257300</td>\n",
       "    </tr>\n",
       "    <tr>\n",
       "      <th>2023-08-22</th>\n",
       "      <td>481.350006</td>\n",
       "      <td>481.869995</td>\n",
       "      <td>453.329987</td>\n",
       "      <td>456.679993</td>\n",
       "      <td>456.679993</td>\n",
       "      <td>75720700</td>\n",
       "    </tr>\n",
       "    <tr>\n",
       "      <th>2023-08-23</th>\n",
       "      <td>458.660004</td>\n",
       "      <td>472.000000</td>\n",
       "      <td>452.079987</td>\n",
       "      <td>471.160004</td>\n",
       "      <td>471.160004</td>\n",
       "      <td>77904600</td>\n",
       "    </tr>\n",
       "    <tr>\n",
       "      <th>2023-08-24</th>\n",
       "      <td>502.160004</td>\n",
       "      <td>502.660004</td>\n",
       "      <td>471.589996</td>\n",
       "      <td>471.630005</td>\n",
       "      <td>471.630005</td>\n",
       "      <td>115604400</td>\n",
       "    </tr>\n",
       "    <tr>\n",
       "      <th>2023-08-25</th>\n",
       "      <td>470.119995</td>\n",
       "      <td>478.000000</td>\n",
       "      <td>450.239990</td>\n",
       "      <td>460.179993</td>\n",
       "      <td>460.179993</td>\n",
       "      <td>91570515</td>\n",
       "    </tr>\n",
       "  </tbody>\n",
       "</table>\n",
       "<p>3435 rows × 6 columns</p>\n",
       "</div>"
      ],
      "text/plain": [
       "                  Open        High         Low       Close   Adj Close  \\\n",
       "Date                                                                     \n",
       "2010-01-04    4.627500    4.655000    4.527500    4.622500    4.241151   \n",
       "2010-01-05    4.605000    4.740000    4.605000    4.690000    4.303081   \n",
       "2010-01-06    4.687500    4.730000    4.642500    4.720000    4.330606   \n",
       "2010-01-07    4.695000    4.715000    4.592500    4.627500    4.245739   \n",
       "2010-01-08    4.590000    4.670000    4.562500    4.637500    4.254913   \n",
       "...                ...         ...         ...         ...         ...   \n",
       "2023-08-21  444.940002  470.649994  442.220001  469.670013  469.670013   \n",
       "2023-08-22  481.350006  481.869995  453.329987  456.679993  456.679993   \n",
       "2023-08-23  458.660004  472.000000  452.079987  471.160004  471.160004   \n",
       "2023-08-24  502.160004  502.660004  471.589996  471.630005  471.630005   \n",
       "2023-08-25  470.119995  478.000000  450.239990  460.179993  460.179993   \n",
       "\n",
       "               Volume  \n",
       "Date                   \n",
       "2010-01-04   80020400  \n",
       "2010-01-05   72864800  \n",
       "2010-01-06   64916800  \n",
       "2010-01-07   54779200  \n",
       "2010-01-08   47816800  \n",
       "...               ...  \n",
       "2023-08-21   69257300  \n",
       "2023-08-22   75720700  \n",
       "2023-08-23   77904600  \n",
       "2023-08-24  115604400  \n",
       "2023-08-25   91570515  \n",
       "\n",
       "[3435 rows x 6 columns]"
      ]
     },
     "execution_count": 100,
     "metadata": {},
     "output_type": "execute_result"
    }
   ],
   "source": [
    "df"
   ]
  },
  {
   "cell_type": "code",
   "execution_count": 101,
   "id": "6fdf55fd",
   "metadata": {},
   "outputs": [],
   "source": [
    "import seaborn as sns\n",
    "%matplotlib inline"
   ]
  },
  {
   "cell_type": "code",
   "execution_count": 102,
   "id": "dc3ef9d6",
   "metadata": {},
   "outputs": [
    {
     "name": "stdout",
     "output_type": "stream",
     "text": [
      "<class 'pandas.core.frame.DataFrame'>\n",
      "DatetimeIndex: 3435 entries, 2010-01-04 to 2023-08-25\n",
      "Data columns (total 6 columns):\n",
      " #   Column     Non-Null Count  Dtype  \n",
      "---  ------     --------------  -----  \n",
      " 0   Open       3435 non-null   float64\n",
      " 1   High       3435 non-null   float64\n",
      " 2   Low        3435 non-null   float64\n",
      " 3   Close      3435 non-null   float64\n",
      " 4   Adj Close  3435 non-null   float64\n",
      " 5   Volume     3435 non-null   int64  \n",
      "dtypes: float64(5), int64(1)\n",
      "memory usage: 187.9 KB\n"
     ]
    }
   ],
   "source": [
    "df.info()"
   ]
  },
  {
   "cell_type": "code",
   "execution_count": 103,
   "id": "c57d0063",
   "metadata": {},
   "outputs": [
    {
     "data": {
      "text/plain": [
       "<AxesSubplot:xlabel='Date', ylabel='Close'>"
      ]
     },
     "execution_count": 103,
     "metadata": {},
     "output_type": "execute_result"
    },
    {
     "data": {
      "image/png": "[encoded data removed]",
      "text/plain": [
       "<Figure size 1080x720 with 1 Axes>"
      ]
     },
     "metadata": {
      "needs_background": "light"
     },
     "output_type": "display_data"
    }
   ],
   "source": [
    "plt.figure(figsize=(15,10))\n",
    "sns.lineplot(x='Date',y='Close',data=df)"
   ]
  },
  {
   "cell_type": "code",
   "execution_count": 104,
   "id": "b514f35a",
   "metadata": {},
   "outputs": [],
   "source": [
    "try:\n",
    "    import pandas_ta as ta\n",
    "except:\n",
    "    !pip install -q pandas_ta\n",
    "    import pandas_ta as ta"
   ]
  },
  {
   "cell_type": "code",
   "execution_count": 105,
   "id": "98654664",
   "metadata": {},
   "outputs": [],
   "source": [
    "df['RSI(2)']=ta.rsi(df['Close'],length=2)\n",
    "df['RSI(7)']=ta.rsi(df['Close'],length=7)\n",
    "df['RSI(14)']=ta.rsi(df['Close'],length=14)\n",
    "df['CCI(30)']=ta.cci(close=df['Close'],length=30,high=df['High'],low=df['Low'])\n",
    "df['CCI(50)']=ta.cci(close=df['Close'],length=50,high=df['High'],low=df['Low'])\n",
    "df['CCI(100)']=ta.cci(close=df['Close'],length=100,high=df['High'],low=df['Low'])"
   ]
  },
  {
   "cell_type": "code",
   "execution_count": 106,
   "id": "ccda927e",
   "metadata": {},
   "outputs": [],
   "source": [
    "df = df.dropna()"
   ]
  },
  {
   "cell_type": "code",
   "execution_count": 120,
   "id": "21d34a2f",
   "metadata": {},
   "outputs": [
    {
     "data": {
      "text/plain": [
       "<AxesSubplot:xlabel='Date'>"
      ]
     },
     "execution_count": 120,
     "metadata": {},
     "output_type": "execute_result"
    },
    {
     "data": {
      "image/png": "[encoded data removed]",
      "text/plain": [
       "<Figure size 432x288 with 1 Axes>"
      ]
     },
     "metadata": {
      "needs_background": "light"
     },
     "output_type": "display_data"
    },
    {
     "data": {
      "image/png": "[encoded data removed]",
      "text/plain": [
       "<Figure size 432x288 with 1 Axes>"
      ]
     },
     "metadata": {
      "needs_background": "light"
     },
     "output_type": "display_data"
    }
   ],
   "source": [
    "df.plot(y='RSI(2)')\n",
    "df.plot(y='CCI(100)')"
   ]
  },
  {
   "cell_type": "code",
   "execution_count": 108,
   "id": "a22af284",
   "metadata": {},
   "outputs": [
    {
     "data": {
      "text/html": [
       "<div>\n",
       "<style scoped>\n",
       "    .dataframe tbody tr th:only-of-type {\n",
       "        vertical-align: middle;\n",
       "    }\n",
       "\n",
       "    .dataframe tbody tr th {\n",
       "        vertical-align: top;\n",
       "    }\n",
       "\n",
       "    .dataframe thead th {\n",
       "        text-align: right;\n",
       "    }\n",
       "</style>\n",
       "<table border=\"1\" class=\"dataframe\">\n",
       "  <thead>\n",
       "    <tr style=\"text-align: right;\">\n",
       "      <th></th>\n",
       "      <th>Open</th>\n",
       "      <th>High</th>\n",
       "      <th>Low</th>\n",
       "      <th>Close</th>\n",
       "      <th>Adj Close</th>\n",
       "      <th>Volume</th>\n",
       "      <th>RSI(2)</th>\n",
       "      <th>RSI(7)</th>\n",
       "      <th>RSI(14)</th>\n",
       "      <th>CCI(30)</th>\n",
       "      <th>CCI(50)</th>\n",
       "      <th>CCI(100)</th>\n",
       "    </tr>\n",
       "    <tr>\n",
       "      <th>Date</th>\n",
       "      <th></th>\n",
       "      <th></th>\n",
       "      <th></th>\n",
       "      <th></th>\n",
       "      <th></th>\n",
       "      <th></th>\n",
       "      <th></th>\n",
       "      <th></th>\n",
       "      <th></th>\n",
       "      <th></th>\n",
       "      <th></th>\n",
       "      <th></th>\n",
       "    </tr>\n",
       "  </thead>\n",
       "  <tbody>\n",
       "    <tr>\n",
       "      <th>2010-05-26</th>\n",
       "      <td>3.3000</td>\n",
       "      <td>3.3625</td>\n",
       "      <td>3.1775</td>\n",
       "      <td>3.1875</td>\n",
       "      <td>2.924536</td>\n",
       "      <td>99502800</td>\n",
       "      <td>68.040922</td>\n",
       "      <td>36.609701</td>\n",
       "      <td>32.825099</td>\n",
       "      <td>-84.363878</td>\n",
       "      <td>-121.032465</td>\n",
       "      <td>-211.346882</td>\n",
       "    </tr>\n",
       "    <tr>\n",
       "      <th>2010-05-27</th>\n",
       "      <td>3.2675</td>\n",
       "      <td>3.3750</td>\n",
       "      <td>3.2600</td>\n",
       "      <td>3.3750</td>\n",
       "      <td>3.096568</td>\n",
       "      <td>71356000</td>\n",
       "      <td>93.399432</td>\n",
       "      <td>54.438149</td>\n",
       "      <td>42.662445</td>\n",
       "      <td>-63.445993</td>\n",
       "      <td>-99.622159</td>\n",
       "      <td>-181.159933</td>\n",
       "    </tr>\n",
       "    <tr>\n",
       "      <th>2010-05-28</th>\n",
       "      <td>3.3700</td>\n",
       "      <td>3.3700</td>\n",
       "      <td>3.2350</td>\n",
       "      <td>3.2850</td>\n",
       "      <td>3.013993</td>\n",
       "      <td>54511600</td>\n",
       "      <td>53.015787</td>\n",
       "      <td>47.030831</td>\n",
       "      <td>39.660166</td>\n",
       "      <td>-66.645320</td>\n",
       "      <td>-100.495886</td>\n",
       "      <td>-183.041542</td>\n",
       "    </tr>\n",
       "    <tr>\n",
       "      <th>2010-06-01</th>\n",
       "      <td>3.2400</td>\n",
       "      <td>3.2775</td>\n",
       "      <td>3.1425</td>\n",
       "      <td>3.1450</td>\n",
       "      <td>2.885542</td>\n",
       "      <td>52749200</td>\n",
       "      <td>22.606361</td>\n",
       "      <td>37.717008</td>\n",
       "      <td>35.477707</td>\n",
       "      <td>-81.740105</td>\n",
       "      <td>-111.432799</td>\n",
       "      <td>-199.269594</td>\n",
       "    </tr>\n",
       "    <tr>\n",
       "      <th>2010-06-02</th>\n",
       "      <td>3.1500</td>\n",
       "      <td>3.1850</td>\n",
       "      <td>3.1300</td>\n",
       "      <td>3.1800</td>\n",
       "      <td>2.917655</td>\n",
       "      <td>64908800</td>\n",
       "      <td>39.855569</td>\n",
       "      <td>41.118073</td>\n",
       "      <td>37.259075</td>\n",
       "      <td>-80.799572</td>\n",
       "      <td>-109.015929</td>\n",
       "      <td>-195.546897</td>\n",
       "    </tr>\n",
       "  </tbody>\n",
       "</table>\n",
       "</div>"
      ],
      "text/plain": [
       "              Open    High     Low   Close  Adj Close    Volume     RSI(2)  \\\n",
       "Date                                                                         \n",
       "2010-05-26  3.3000  3.3625  3.1775  3.1875   2.924536  99502800  68.040922   \n",
       "2010-05-27  3.2675  3.3750  3.2600  3.3750   3.096568  71356000  93.399432   \n",
       "2010-05-28  3.3700  3.3700  3.2350  3.2850   3.013993  54511600  53.015787   \n",
       "2010-06-01  3.2400  3.2775  3.1425  3.1450   2.885542  52749200  22.606361   \n",
       "2010-06-02  3.1500  3.1850  3.1300  3.1800   2.917655  64908800  39.855569   \n",
       "\n",
       "               RSI(7)    RSI(14)    CCI(30)     CCI(50)    CCI(100)  \n",
       "Date                                                                 \n",
       "2010-05-26  36.609701  32.825099 -84.363878 -121.032465 -211.346882  \n",
       "2010-05-27  54.438149  42.662445 -63.445993  -99.622159 -181.159933  \n",
       "2010-05-28  47.030831  39.660166 -66.645320 -100.495886 -183.041542  \n",
       "2010-06-01  37.717008  35.477707 -81.740105 -111.432799 -199.269594  \n",
       "2010-06-02  41.118073  37.259075 -80.799572 -109.015929 -195.546897  "
      ]
     },
     "execution_count": 108,
     "metadata": {},
     "output_type": "execute_result"
    }
   ],
   "source": [
    "df.head()"
   ]
  },
  {
   "cell_type": "code",
   "execution_count": 109,
   "id": "db214504",
   "metadata": {},
   "outputs": [],
   "source": [
    "import numpy as np"
   ]
  },
  {
   "cell_type": "code",
   "execution_count": 110,
   "id": "f29fb993",
   "metadata": {},
   "outputs": [
    {
     "data": {
      "text/html": [
       "<div>\n",
       "<style scoped>\n",
       "    .dataframe tbody tr th:only-of-type {\n",
       "        vertical-align: middle;\n",
       "    }\n",
       "\n",
       "    .dataframe tbody tr th {\n",
       "        vertical-align: top;\n",
       "    }\n",
       "\n",
       "    .dataframe thead th {\n",
       "        text-align: right;\n",
       "    }\n",
       "</style>\n",
       "<table border=\"1\" class=\"dataframe\">\n",
       "  <thead>\n",
       "    <tr style=\"text-align: right;\">\n",
       "      <th></th>\n",
       "      <th>Open</th>\n",
       "      <th>High</th>\n",
       "      <th>Low</th>\n",
       "      <th>Close</th>\n",
       "      <th>Adj Close</th>\n",
       "      <th>Volume</th>\n",
       "      <th>RSI(2)</th>\n",
       "      <th>RSI(7)</th>\n",
       "      <th>RSI(14)</th>\n",
       "      <th>CCI(30)</th>\n",
       "      <th>CCI(50)</th>\n",
       "      <th>CCI(100)</th>\n",
       "      <th>LABEL</th>\n",
       "    </tr>\n",
       "    <tr>\n",
       "      <th>Date</th>\n",
       "      <th></th>\n",
       "      <th></th>\n",
       "      <th></th>\n",
       "      <th></th>\n",
       "      <th></th>\n",
       "      <th></th>\n",
       "      <th></th>\n",
       "      <th></th>\n",
       "      <th></th>\n",
       "      <th></th>\n",
       "      <th></th>\n",
       "      <th></th>\n",
       "      <th></th>\n",
       "    </tr>\n",
       "  </thead>\n",
       "  <tbody>\n",
       "    <tr>\n",
       "      <th>2010-05-26</th>\n",
       "      <td>3.3000</td>\n",
       "      <td>3.3625</td>\n",
       "      <td>3.1775</td>\n",
       "      <td>3.1875</td>\n",
       "      <td>2.924536</td>\n",
       "      <td>99502800</td>\n",
       "      <td>68.040922</td>\n",
       "      <td>36.609701</td>\n",
       "      <td>32.825099</td>\n",
       "      <td>-84.363878</td>\n",
       "      <td>-121.032465</td>\n",
       "      <td>-211.346882</td>\n",
       "      <td>1</td>\n",
       "    </tr>\n",
       "    <tr>\n",
       "      <th>2010-05-27</th>\n",
       "      <td>3.2675</td>\n",
       "      <td>3.3750</td>\n",
       "      <td>3.2600</td>\n",
       "      <td>3.3750</td>\n",
       "      <td>3.096568</td>\n",
       "      <td>71356000</td>\n",
       "      <td>93.399432</td>\n",
       "      <td>54.438149</td>\n",
       "      <td>42.662445</td>\n",
       "      <td>-63.445993</td>\n",
       "      <td>-99.622159</td>\n",
       "      <td>-181.159933</td>\n",
       "      <td>0</td>\n",
       "    </tr>\n",
       "    <tr>\n",
       "      <th>2010-05-28</th>\n",
       "      <td>3.3700</td>\n",
       "      <td>3.3700</td>\n",
       "      <td>3.2350</td>\n",
       "      <td>3.2850</td>\n",
       "      <td>3.013993</td>\n",
       "      <td>54511600</td>\n",
       "      <td>53.015787</td>\n",
       "      <td>47.030831</td>\n",
       "      <td>39.660166</td>\n",
       "      <td>-66.645320</td>\n",
       "      <td>-100.495886</td>\n",
       "      <td>-183.041542</td>\n",
       "      <td>0</td>\n",
       "    </tr>\n",
       "    <tr>\n",
       "      <th>2010-06-01</th>\n",
       "      <td>3.2400</td>\n",
       "      <td>3.2775</td>\n",
       "      <td>3.1425</td>\n",
       "      <td>3.1450</td>\n",
       "      <td>2.885542</td>\n",
       "      <td>52749200</td>\n",
       "      <td>22.606361</td>\n",
       "      <td>37.717008</td>\n",
       "      <td>35.477707</td>\n",
       "      <td>-81.740105</td>\n",
       "      <td>-111.432799</td>\n",
       "      <td>-199.269594</td>\n",
       "      <td>0</td>\n",
       "    </tr>\n",
       "    <tr>\n",
       "      <th>2010-06-02</th>\n",
       "      <td>3.1500</td>\n",
       "      <td>3.1850</td>\n",
       "      <td>3.1300</td>\n",
       "      <td>3.1800</td>\n",
       "      <td>2.917655</td>\n",
       "      <td>64908800</td>\n",
       "      <td>39.855569</td>\n",
       "      <td>41.118073</td>\n",
       "      <td>37.259075</td>\n",
       "      <td>-80.799572</td>\n",
       "      <td>-109.015929</td>\n",
       "      <td>-195.546897</td>\n",
       "      <td>0</td>\n",
       "    </tr>\n",
       "  </tbody>\n",
       "</table>\n",
       "</div>"
      ],
      "text/plain": [
       "              Open    High     Low   Close  Adj Close    Volume     RSI(2)  \\\n",
       "Date                                                                         \n",
       "2010-05-26  3.3000  3.3625  3.1775  3.1875   2.924536  99502800  68.040922   \n",
       "2010-05-27  3.2675  3.3750  3.2600  3.3750   3.096568  71356000  93.399432   \n",
       "2010-05-28  3.3700  3.3700  3.2350  3.2850   3.013993  54511600  53.015787   \n",
       "2010-06-01  3.2400  3.2775  3.1425  3.1450   2.885542  52749200  22.606361   \n",
       "2010-06-02  3.1500  3.1850  3.1300  3.1800   2.917655  64908800  39.855569   \n",
       "\n",
       "               RSI(7)    RSI(14)    CCI(30)     CCI(50)    CCI(100) LABEL  \n",
       "Date                                                                       \n",
       "2010-05-26  36.609701  32.825099 -84.363878 -121.032465 -211.346882     1  \n",
       "2010-05-27  54.438149  42.662445 -63.445993  -99.622159 -181.159933     0  \n",
       "2010-05-28  47.030831  39.660166 -66.645320 -100.495886 -183.041542     0  \n",
       "2010-06-01  37.717008  35.477707 -81.740105 -111.432799 -199.269594     0  \n",
       "2010-06-02  41.118073  37.259075 -80.799572 -109.015929 -195.546897     0  "
      ]
     },
     "execution_count": 110,
     "metadata": {},
     "output_type": "execute_result"
    }
   ],
   "source": [
    "df['LABEL']= np.where( df['Open'].shift(-2).gt(df['Open'].shift(-1)),\"1\",\"0\")\n",
    "df = df.dropna()\n",
    "df.head()"
   ]
  },
  {
   "cell_type": "code",
   "execution_count": 111,
   "id": "85443185",
   "metadata": {},
   "outputs": [],
   "source": [
    "import sklearn\n",
    "from sklearn.neural_network import MLPClassifier\n",
    "from sklearn.neural_network import MLPRegressor\n",
    "from sklearn.metrics import mean_squared_error\n",
    "from math import sqrt\n",
    "from sklearn.metrics import r2_score"
   ]
  },
  {
   "cell_type": "code",
   "execution_count": 112,
   "id": "b7ce7b5c",
   "metadata": {},
   "outputs": [],
   "source": [
    "X = df[df.columns[6:-1]].values\n",
    "y = df['LABEL'].values\n",
    "from sklearn.model_selection import train_test_split\n",
    "X_train, X_test, y_train, y_test = train_test_split(X, y, test_size=0.3)\n"
   ]
  },
  {
   "cell_type": "code",
   "execution_count": 113,
   "id": "0b745bf3",
   "metadata": {},
   "outputs": [],
   "source": [
    "mlp = MLPClassifier(hidden_layer_sizes = (8,8,8), activation ='relu', solver='adam',max_iter=1000)\n"
   ]
  },
  {
   "cell_type": "code",
   "execution_count": 114,
   "id": "ba7b118b",
   "metadata": {},
   "outputs": [],
   "source": [
    "mlp.fit(X_train,y_train)\n",
    "\n",
    "predict_train = mlp.predict(X_train)\n",
    "predict_test = mlp.predict(X_test)"
   ]
  },
  {
   "cell_type": "code",
   "execution_count": 115,
   "id": "3329495d",
   "metadata": {},
   "outputs": [],
   "source": [
    "from sklearn.metrics import classification_report,confusion_matrix"
   ]
  },
  {
   "cell_type": "code",
   "execution_count": 116,
   "id": "1847b572",
   "metadata": {},
   "outputs": [
    {
     "name": "stdout",
     "output_type": "stream",
     "text": [
      "Train Data Accuracy\n",
      "              precision    recall  f1-score   support\n",
      "\n",
      "           0       0.54      0.22      0.31      1132\n",
      "           1       0.53      0.82      0.64      1203\n",
      "\n",
      "    accuracy                           0.53      2335\n",
      "   macro avg       0.53      0.52      0.48      2335\n",
      "weighted avg       0.53      0.53      0.48      2335\n",
      "\n"
     ]
    }
   ],
   "source": [
    "print('Train Data Accuracy')\n",
    "print(classification_report(y_train,predict_train))"
   ]
  },
  {
   "cell_type": "code",
   "execution_count": 117,
   "id": "e2e83810",
   "metadata": {},
   "outputs": [
    {
     "name": "stdout",
     "output_type": "stream",
     "text": [
      "Test Data Accuracy\n",
      "              precision    recall  f1-score   support\n",
      "\n",
      "           0       0.46      0.23      0.31       477\n",
      "           1       0.52      0.76      0.62       524\n",
      "\n",
      "    accuracy                           0.51      1001\n",
      "   macro avg       0.49      0.49      0.46      1001\n",
      "weighted avg       0.49      0.51      0.47      1001\n",
      "\n"
     ]
    }
   ],
   "source": [
    "print('Test Data Accuracy')\n",
    "print(classification_report(y_test,predict_test))"
   ]
  },
  {
   "cell_type": "markdown",
   "id": "2a042546",
   "metadata": {},
   "source": [
    "### Backtesting our model"
   ]
  },
  {
   "cell_type": "code",
   "execution_count": 118,
   "id": "9cb59ff5",
   "metadata": {},
   "outputs": [
    {
     "data": {
      "text/plain": [
       "<AxesSubplot:xlabel='Date'>"
      ]
     },
     "execution_count": 118,
     "metadata": {},
     "output_type": "execute_result"
    },
    {
     "data": {
      "image/png": "[encoded data removed]",
      "text/plain": [
       "<Figure size 432x288 with 1 Axes>"
      ]
     },
     "metadata": {
      "needs_background": "light"
     },
     "output_type": "display_data"
    }
   ],
   "source": [
    "df['Prediction'] = np.append(predict_train,predict_test)\n",
    "df['Strategy Returns'] = np.where( df['Prediction'].eq(\"1\"),df['Open'].shift(-2)-df['Open'].shift(-1),0)\n",
    "\n",
    "df['Strategy Returns'] = df['Strategy Returns'].cumsum()\n",
    "\n",
    "df.plot(y = 'Strategy Returns')"
   ]
  },
  {
   "cell_type": "code",
   "execution_count": 119,
   "id": "ad38e7b3",
   "metadata": {},
   "outputs": [
    {
     "name": "stdout",
     "output_type": "stream",
     "text": [
      "Today up\n"
     ]
    }
   ],
   "source": [
    "prediction = df.iloc[-1]['Prediction']\n",
    "\n",
    "if prediction ==\"1\":\n",
    "    print('Today up')\n",
    "    \n",
    "else:\n",
    "    print('Today down')"
   ]
  },
  {
   "cell_type": "code",
   "execution_count": null,
   "id": "ee455fe8",
   "metadata": {},
   "outputs": [],
   "source": []
  }
 ],
 "metadata": {
  "kernelspec": {
   "display_name": "Python 3 (ipykernel)",
   "language": "python",
   "name": "python3"
  },
  "language_info": {
   "codemirror_mode": {
    "name": "ipython",
    "version": 3
   },
   "file_extension": ".py",
   "mimetype": "text/x-python",
   "name": "python",
   "nbconvert_exporter": "python",
   "pygments_lexer": "ipython3",
   "version": "3.9.12"
  }
 },
 "nbformat": 4,
 "nbformat_minor": 5
}
